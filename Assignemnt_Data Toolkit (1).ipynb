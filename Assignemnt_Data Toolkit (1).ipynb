{
 "cells": [
  {
   "cell_type": "markdown",
   "id": "e40671e2-e9b2-4979-b025-b9bdc5579822",
   "metadata": {},
   "source": [
    "1. What is NumPy, and why is it widely used in Python?\n",
    "   "
   ]
  },
  {
   "cell_type": "markdown",
   "id": "81127c1e-f536-4c86-96e9-cebc285e0f9d",
   "metadata": {},
   "source": [
    "NumPy stands for “Numerical Python” and it is the standard Python library used for working with arrays (i.e.vectors & matrices), linear algebra, and other numerical computations. NumPy is written in C, making NumPy arrays faster and more memory efficient than Python lists or arrays.\n",
    "\n",
    "NumPy is the fundamental package for scientific computing in Python. It is a Python library that provides a multidimensional array object, various derived objects (such as masked arrays and matrices), and an assortment of routines for fast operations on arrays, including mathematical, logical, shape manipulation,sorting, selecting, I/O, discrete Fourier transforms, basic linear algebra, basic statistical operations, random simulation and much more.\n",
    "\n",
    "Here are some key reasons why NumPy is widely used in Python:\n",
    "\n",
    "Efficient Array Handling: NumPy arrays are more efficient in terms of memory and computation compared to traditional Python lists. They support vectorized operations, which means you can perform mathematical operations on entire arrays without using explicit loops, resulting in faster performance.\n",
    "\n",
    "Multi-dimensional Arrays: It allows you to work with multi-dimensional arrays (like matrices or tensors), which are fundamental in many scientific, engineering, and data analysis tasks.\n",
    "\n",
    "Broad Functionality: NumPy provides a large number of mathematical functions, including linear algebra operations, Fourier transforms, and random number generation, making it essential for tasks like statistical analysis, machine learning, and data science.\n",
    "\n",
    "Integration with Other Libraries: Many other libraries in Python, including pandas, matplotlib, and scikit-learn, rely on NumPy arrays as their underlying data structures, allowing for seamless integration in data science and machine learning workflows.\n",
    "\n",
    "Performance: Thanks to its implementation in C, NumPy operations are highly optimized and much faster than equivalent Python code, especially when dealing with large datasets."
   ]
  },
  {
   "cell_type": "markdown",
   "id": "75ff18b5-4fa5-496c-a4f9-72335b0e5c6a",
   "metadata": {},
   "source": [
    "2. How does broadcasting work in NumPy?\n",
    "\n",
    "NumPy broadcasting is a powerful feature that allows for implicit element-wise operations between arrays of different shapes and sizes. Broadcasting automatically adjusts the shape of smaller arrays to make them compatible with larger arrays, eliminating the need for explicit looping or copying of data.This makes it easier to perform operations on arrays of different shapes, reducing the need for unnecessary duplication of data.\n",
    "\n",
    "Rules of Broadcasting\n",
    "\n",
    "1. Array with smaller ndim than the other is prepended with '1' in its shapem\n",
    "2. Size in each dimension of the output shape is maximum of the input sizes in that dimensionm\n",
    "3. An input can be used in calculation, if its size in a particular dimension matches the output size or its value is exactly 1.\n",
    "4. If an input has a dimension size of 1, the first data entry in that dimension is used for all calculations along that dimension.\n",
    "\n",
    "A set of arrays is said to be broadcastable if the above rules produce a valid result and one of the following is true\n",
    "\n",
    "1. Arrays have exactly the same shape.\n",
    "2. Arrays have the same number of dimensions and the length of each dimension is either a common length or 1.\n",
    "3. Array having too few dimensions can have its shape prepended with a dimension of length 1, so that the above stated property is true."
   ]
  },
  {
   "cell_type": "markdown",
   "id": "60b0e485-28c0-4ea5-9e40-198f1a993668",
   "metadata": {},
   "source": [
    "3. What is a Pandas DataFrame?\n",
    "\n",
    "A DataFrame is a two-dimensional table, similar to a spreadsheet or a SQL table. It consists of rows and columns, and each column is a Series. DataFrames are the primary data structure for most Pandas operations.\n",
    "\n",
    "Basic DataFrame OperationU\n",
    "Accessing Data: You can access specific columns and rows using column labels and row indices,respectively.\n",
    "Filtering Data: Filtering allows you to extract specific rows based on conditions.\n",
    "Adding and Modifying Data: You can add new columns and modify existing ones using pandas."
   ]
  },
  {
   "cell_type": "markdown",
   "id": "cd08f69b-26ad-41a5-b537-ec775c8ac19e",
   "metadata": {},
   "source": [
    "4. Explain the use of the groupby() method in Pandas?\n",
    "\n",
    "The groupby() method in Pandas is a powerful tool for grouping data in a DataFrame based on one or more columns, and then applying some aggregation or transformation function to each group. It's widely used for summarizing data, performing calculations within groups, and analyzing relationships between different subsets of your dataset.\n",
    "\n",
    "Key Steps in Using groupby():\n",
    "\n",
    "Splitting: The groupby() method splits the data into groups based on the values of one or more columns.\n",
    "\n",
    "Applying: You can then apply a function (such as aggregation or transformation) to each group.\n",
    "\n",
    "Combining: After applying the function, Pandas combines the results back into a DataFrame or Series."
   ]
  },
  {
   "cell_type": "markdown",
   "id": "cb79ce32-3a59-4a5d-9870-d57d91cd0ba3",
   "metadata": {},
   "source": [
    "5.Why is Seaborn preferred for statistical visualizations?\n",
    "\n",
    "Seaborn is a Python data visualization library that simplifies the process of creating complex visualizations. It is specifically designed for statistical data visualization making it easier to understand data distributions and relationships between them. It is built on the top of matplotlib library and closely integrate with data structures from pandas.\n",
    "\n",
    "Key Features of Seaborn:\n",
    "\n",
    "High-level interface: Simplifies the creation of complex visualizations.\n",
    "Integration with Pandas: Works with Pandas DataFrames for data manipulation.\n",
    "Built-in themes: Offers attractive default themes and color palettes.\n",
    "Statistical plots: Provides various plot types to visualize statistical relationships and distributions."
   ]
  },
  {
   "cell_type": "markdown",
   "id": "3996fba1-d7ee-4e1c-9bd2-7c9754f1af14",
   "metadata": {},
   "source": [
    "6. What are the differences between NumPy arrays and Python lists?\n",
    "\n",
    "Here are the key differences between NumPy arrays and Python lists:\n",
    "\n",
    "1. Performance:\n",
    "NumPy arrays are faster than Python lists for numerical computations. This is because NumPy is implemented in C and performs operations in a more efficient, vectorized way (i.e., you can apply operations to entire arrays without looping through them) whereas Python lists are more flexible but less efficient for numerical tasks. Operations on lists usually require explicit loops or list comprehensions, making them slower for large data sets.\n",
    "\n",
    "2. Data Types:\n",
    "NumPy arrays store elements of the same type (homogeneous data). This allows NumPy to optimize memory storage and computation where as Python lists can store elements of different types (heterogeneous data). You can have integers, floats, strings, etc., all in the same list, which reduces performance when performing mathematical operations.\n",
    "\n",
    "3. Memory Efficiency:\n",
    "NumPy arrays are more memory-efficient because they store data in a compact, contiguous block of memory. This minimizes overhead compared to Python lists whereas Python lists use more memory since they need to store additional information (like the type of each element) for each item.\n",
    "\n",
    "4. Functionality:\n",
    "\n",
    "NumPy arrays provide a wide range of mathematical and statistical functions (like dot products, matrix multiplications, and advanced operations). They also support broadcasting, which allows you to perform operations on arrays of different shapes without needing explicit loops whereas python lists don’t have built-in mathematical functions, and you would need to write loops or use functions from other libraries like math or itertools for complex operations.\n",
    "\n",
    "5. Multidimensional Data:\n",
    "NumPy arrays can be multidimensional (e.g., 2D matrices, 3D tensors). This makes them ideal for handling tables, images, and other forms of complex data whereas While you can nest lists to create \"multidimensional\" lists (e.g., lists of lists), the performance and ease of use are much poorer compared to NumPy arrays.\n",
    "\n",
    "\n",
    "6. Slicing and Indexing:\n",
    "NumPy arrays allow for advanced slicing and indexing. You can slice arrays in multiple dimensions, use boolean indexing, and apply more sophisticated array manipulation techniques (like fancy indexing) whereas Python lists support basic slicing and indexing but are limited to one-dimensional indexing (unless you use nested lists, which can become complicated).\n",
    "\n",
    "7. Reshaping:\n",
    "NumPy allows for easy reshaping of arrays without changing the underlying data (e.g., turning a 1D array into a 2D matrix) whereas Reshaping a list isn’t built-in and would require you to manually rearrange the data or use external libraries.\n",
    "\n",
    "8. Size of Data:\n",
    "NumPy arrays can handle larger datasets effectively. Their fixed size allows for efficient memory management and faster access to large amounts of data.\n",
    "where as Python lists are more flexible in terms of size (you can append to a list), but they are not optimized for large amounts of data."
   ]
  },
  {
   "cell_type": "markdown",
   "id": "f40681b2-23fa-414d-98e7-74fce2fc6c31",
   "metadata": {},
   "source": [
    "7. What is a heatmap, and when should it be used?\n",
    "\n",
    "A heatmap is a data visualization technique that uses colors to represent values in a matrix or 2D grid. It’s a graphical representation where individual values are represented by colors, which makes it easy to see patterns, relationships, and anomalies in large datasets.\n",
    "\n",
    "In a heatmap:\n",
    "\n",
    "Each cell in the grid corresponds to a specific data point.\n",
    "The color intensity of each cell indicates the magnitude or value of the data point.\n",
    "The color scale (often a gradient from cool to warm colors) represents the range of values, with different colors indicating lower or higher values.\n",
    "\n",
    "Heatmaps are helpful in several situations:\n",
    "\n",
    "Visualizing Relationships or Correlations\n",
    "\n",
    "Identifying Patterns or Clusters\n",
    "\n",
    "Identifying Anomalies"
   ]
  },
  {
   "cell_type": "markdown",
   "id": "b96a0313-2fdf-4dbe-9402-f2057d7358e0",
   "metadata": {},
   "source": [
    "8. What does the term “vectorized operation” mean in NumPy?\n",
    "\n",
    "\n",
    "In NumPy, a vectorized operation refers to the ability to perform operations on entire arrays or matrices without the need for explicit loops. Essentially, NumPy allows you to apply mathematical operations element-wise on entire arrays or multi-dimensional arrays at once, using optimized low-level implementations written in C. This is much faster and more efficient than using Python loops to process individual elements.\n",
    "\n"
   ]
  },
  {
   "cell_type": "markdown",
   "id": "bc811848-b778-496c-be3c-da3f7c08bd8b",
   "metadata": {},
   "source": [
    "9. How does Matplotlib differ from Plotly?\n",
    "\n",
    "Matplotlib and Plotly are both popular libraries for creating visualizations in Python\n",
    "\n",
    "Interactivity: Matplotlib Primarily creates static plots. It is excellent for creating publication-quality charts where you don't need interactivity whereas  Plotly plots are interactive right out of the box. You can zoom, pan, hover over data points to see values, and even dynamically update the chart. This makes Plotly a great choice for web applications or data exploration.\n",
    "\n",
    "Complexity & Ease of Use:\n",
    "Matplotlib is very powerful and flexible but can sometimes require more code to create complex visualizations whereas Plotly is known for its simple and user-friendly syntax. It allows you to create interactive visualizations with just a few lines of code\n",
    "\n",
    "Customization:\n",
    "Matplotlib is Highly customizable. You can adjust every element of the plot, including colors, fonts, grid lines, and axes. For very fine control over the appearance, Matplotlib is often the go-to choice. whereas Plotly Also customizable, but to a lesser extent than Matplotlib. It provides an easy way to customize the appearance, especially for interactive charts, but for very detailed and fine-tuned control, Matplotlib might still be preferred.\n",
    "\n",
    "Usage:\n",
    "Matplotlib is Best for static visualizations in reports, publications, and print media, especially when precision and fine-tuned control over the design are needed. It's great for users who prefer Python’s more traditional approach to visualizations. whereas Plotly is Best for interactive visualizations, especially when you want users to interact with the plots in real-time (e.g., hovering, zooming, and filtering). Plotly is ideal for dashboards, presentations, and interactive data exploration.\n"
   ]
  },
  {
   "cell_type": "markdown",
   "id": "ae063b9c-81e2-4e92-8c35-a7a572a91818",
   "metadata": {},
   "source": [
    "10. What is the significance of hierarchical indexing in Pandas?\n",
    "\n",
    "Hierarchical indexing in Pandas is a powerful feature that allows you to work with multidimensional data in a more convenient way. It enables you to store and manipulate data with multiple levels of indexing (rows and/or columns) to represent more complex data structures, like datasets with multiple variables or nested categories.\n",
    "\n",
    "Significance of Hierarchical Indexing:\n",
    "\n",
    "Handling Complex Data Structures\n",
    "\n",
    "Easier Data Grouping and Aggregation\n",
    "\n",
    "Better Organization and Readability\n",
    "\n",
    "Advanced Indexing and Slicing"
   ]
  },
  {
   "cell_type": "markdown",
   "id": "0c1b481c-d19e-46a8-aa0c-a7dff1d2f1c7",
   "metadata": {},
   "source": [
    "11. What is the role of Seaborn’s pairplot() function?\n",
    "\n",
    "\n",
    "The pairplot() function in Seaborn is a powerful tool used for visualizing relationships between multiple variables in a dataset, particularly for exploring pairwise relationships in a multivariate dataset. It is especially useful for multidimensional data where you want to see how variables correlate or how they are distributed with respect to one another."
   ]
  },
  {
   "cell_type": "markdown",
   "id": "24dffa66-79d7-497f-a039-e7fd41b1f073",
   "metadata": {},
   "source": [
    "12. What is the purpose of the describe() function in Pandas?\n",
    "\n",
    "The describe() function in Pandas provides a summary of the central tendency, dispersion, and shape of a dataset’s distribution. It is commonly used to quickly get an overview of the statistical properties of a DataFrame or Series, including basic statistics like mean, standard deviation, min/max values, and percentiles.\n",
    "    "
   ]
  },
  {
   "cell_type": "markdown",
   "id": "170834f8-c523-4588-b4ed-1fad7ce93316",
   "metadata": {},
   "source": [
    "13. Why is handling missing data important in Pandas?\n",
    "\n",
    "Handling missing data is crucial in Pandas because missing or null values can significantly impact the quality of our analysis and the results we get. If missing data is not properly addressed, it can lead to biases, incorrect insights, or even errors in your computations, which can undermine the validity of your conclusions."
   ]
  },
  {
   "cell_type": "markdown",
   "id": "d4a969f6-e401-42bb-b850-eaa95f661166",
   "metadata": {},
   "source": [
    "14.What are the benefits of using Plotly for data visualization?\n",
    "\n",
    "Interactivity:\n",
    "\n",
    "Plotly excels at creating interactive visualizations that allow users to engage with the data. This means users can zoom, pan, hover, and click on elements of the plot to get more information. This interactivity is essential for exploring data and understanding it from different perspectives.\n",
    "\n",
    "Rich Visualizations:\n",
    "\n",
    "Plotly supports a wide variety of chart types out of the box, including:\n",
    "Scatter plots\n",
    "Line charts\n",
    "Bar charts\n",
    "Box plots\n",
    "Pie charts\n",
    "Heatmaps\n",
    "3D plots\n",
    "Maps (geospatial data)\n",
    "And more...\n",
    "You can create complex visualizations like 3D plots, subplots, or even interactive geographical maps.\n",
    "\n",
    "Customization and Styling:\n",
    "\n",
    "Plotly provides highly customizable plots. You can adjust the colors, axes, labels, markers, and layout of your chart to match your specific design or presentation needs.\n",
    "It also supports adding annotations, legends, and titles, giving you full control over the appearance of the visualization.\n",
    "\n",
    "Responsive Design:\n",
    "\n",
    "Plotly visualizations are responsive, meaning they automatically adjust to different screen sizes. This is a big advantage when using Plotly in mobile applications, responsive web apps, or data dashboards.\n"
   ]
  },
  {
   "cell_type": "markdown",
   "id": "a18a0a91-cf07-4800-b5e4-5450d0f009b4",
   "metadata": {},
   "source": [
    "15. How does NumPy handle multidimensional arrays?\n",
    "\n",
    "NumPy handles multidimensional arrays with ease through its powerful ndarray object, which allows us to work with arrays of any number of dimensions. This capability makes NumPy particularly well-suited for scientific computing, where operations on matrices, tensors, and high-dimensional datasets are common.\n",
    "\n",
    "ndarray (N-dimensional array):\n",
    "\n",
    "The core object for handling multidimensional arrays in NumPy is the ndarray. This object can store elements of the same data type (e.g., integers, floats) in a multidimensional grid.\n",
    "Each element in the array can be accessed via multiple indices (one for each dimension)\n"
   ]
  },
  {
   "cell_type": "markdown",
   "id": "84170ae9-a6b3-4c6f-bbe5-a0bf9c5df249",
   "metadata": {},
   "source": [
    "16. What is the role of Bokeh in data visualization?\n",
    "\n",
    "Bokeh is a powerful and flexible data visualization library in Python that is primarily used to create interactive, web-based visualizations. It is particularly designed to create visually appealing and high-performance interactive plots that can be easily embedded into web applications or shared as standalone interactive visualizations. Bokeh emphasizes interactivity, scalability, and the ability to handle large datasets effectively.\n",
    "\n",
    "Key Roles and Features of Bokeh in Data Visualization:\n",
    "\n",
    "Interactive Visualizations\n",
    "\n",
    "Web-Ready Visualizations\n",
    "\n",
    "High-Performance Visualizations\n",
    "\n"
   ]
  },
  {
   "cell_type": "markdown",
   "id": "f189815b-04ba-4ac0-9065-9dfda0a87f88",
   "metadata": {},
   "source": [
    "17. Explain the difference between apply() and map() in Pandas?\n",
    "\n",
    "Map() and apply() are both used to apply a function to a Pandas Series or DataFrame, but they operate differently and are suited for different tasks.\n",
    "\n",
    "map():Works on a Series, applying a function element-wise. The function should take a single value as input and return a single value. Can also be used with a dictionary or Series for mapping values. It is optimized for element-wise operations and can be faster than apply() for these cases.\n",
    "\n",
    "apply():\n",
    "Can be used on both Series and DataFrames. When used on a Series, it behaves similarly to map(), applying a function element-wise. When used on a DataFrame, it can apply a function to either the rows or columns. The function can take a Series (a row or column) as input and return a single value or a Series.It is more flexible than map() but can be slower for simple element-wise operations.\n"
   ]
  },
  {
   "cell_type": "markdown",
   "id": "99295a28-baf0-48e5-88dd-053654520522",
   "metadata": {},
   "source": [
    "18. What are some advanced features of NumPy?\n",
    "\n",
    "NumPy is a highly efficient library for numerical computing in Python, and it provides many advanced features that make it essential for scientific computing, data analysis, and machine learning. Some of the more advanced features of NumPy include:\n",
    "\n",
    "Broadcasting\n",
    "Broadcasting allows NumPy to perform operations on arrays of different shapes. It automatically expands the smaller array to match the larger array's shape, eliminating the need for explicit loops.\n",
    "\n",
    "Fancy Indexing (Advanced Indexing)\n",
    "Fancy indexing allows you to use arrays of indices or boolean conditions to access or modify elements in a NumPy array. It is more flexible than simple slicing and enables more complex manipulations of arrays.\n",
    "\n",
    "Linear Algebra\n",
    "NumPy provides a comprehensive set of linear algebra functions for operations on matrices, vectors, and higher-dimensional arrays.\n",
    "Matrix multiplication (np.dot() or @ operator)\n",
    "Determinants, Eigenvalues, Singular Value Decomposition (SVD)\n",
    "Solving linear systems (np.linalg.solve)\n",
    "Inverse and transpose operations\n",
    "\n",
    "Element-wise Mathematical Operations\n",
    "NumPy supports element-wise mathematical operations on arrays, which means that you can perform operations like addition, subtraction, multiplication, division, etc., on entire arrays, and they will be applied element-wise."
   ]
  },
  {
   "cell_type": "markdown",
   "id": "f7bfc046-e880-4e71-924c-d7fd53c287df",
   "metadata": {},
   "source": [
    "19.  How does Pandas simplify time series analysis?\n",
    "\n",
    "Pandas simplifies time series analysis by providing powerful and intuitive tools for handling, manipulating, and analyzing time-dependent data. Time series data is essentially a sequence of data points collected or recorded at specific time intervals. \n",
    "\n",
    "DateTimeIndex for Easy Time-Based Indexing\n",
    "Pandas allows you to use DatetimeIndex (a specialized index for time data), which makes working with time series data straightforward.\n",
    "\n",
    "Rolling Window Functions\n",
    "Rolling windows (like moving averages) are a common operation in time series analysis. Pandas provides the rolling() function, which can be applied to time series data to calculate rolling statistics such as mean, sum, standard deviation, etc., over a specific window\n",
    "\n",
    "Time-Based Grouping\n",
    "You can group time series data by specific periods like years, months, days, etc., using the groupby() function.\n",
    "\n"
   ]
  },
  {
   "cell_type": "markdown",
   "id": "182e060f-6ace-4e3b-b9be-962ca59b1de9",
   "metadata": {},
   "source": [
    "20. What is the role of a pivot table in Pandas?\n",
    "\n",
    "A pivot table in Pandas is a powerful data summarization tool that allows us to reshape and aggregate data based on one or more categorical variables. It is used to summarize data by organizing it in a tabular form, where rows and columns represent different categories of data, and the values are aggregated using a specific function (such as sum, mean, count, etc.).\n"
   ]
  },
  {
   "cell_type": "markdown",
   "id": "b2269b34-9ab8-4911-9cd1-87e89c22a2cb",
   "metadata": {},
   "source": [
    "21.Why is NumPy’s array slicing faster than Python’s list slicing?\n",
    "\n",
    "Contiguous Memory Layout (Arrays) vs. Non-Contiguous Layout (Lists):\n",
    "\n",
    "NumPy arrays are implemented as contiguous blocks of memory, meaning that the entire array is stored in a single, continuous memory block. This enables faster access to elements because the memory is laid out sequentially, making it easier for NumPy to access slices efficiently without needing to traverse multiple locations in memory. while On the other hand, Python lists are implemented as arrays of pointers to objects, meaning that the elements in a list may not be stored contiguously in memory. \n",
    "\n",
    "Efficient Memory Access:\n",
    "\n",
    "When we slice a NumPy array, the operation does not copy the data but rather creates a view into the existing data. This view shares the same memory as the original array, and no new memory allocation is required. \n",
    "\n",
    "In contrast, Python list slicing creates a new list and copies the sliced elements into it. This copying process adds overhead, especially when working with large datasets, which makes list slicing slower than NumPy's slicing.\n",
    "\n",
    "Advanced Slicing Capabilities:\n",
    "NumPy allows for advanced slicing techniques such as multi-dimensional slicing, broadcasting, and slicing with strides whereas Python lists do not support multi-dimensional slicing natively and are not as optimized for complex slicing operations as NumPy arrays.\n"
   ]
  },
  {
   "cell_type": "markdown",
   "id": "8346feda-a84f-4422-ad76-83fda6af07c4",
   "metadata": {},
   "source": [
    "22. What are some common use cases for Seaborn?\n",
    "\n",
    "Seaborn is a powerful and flexible Python visualization library built on top of Matplotlib, specifically designed for creating statistical graphics. It integrates well with Pandas and NumPy, making it easier to create complex visualizations for data analysis.\n",
    "\n",
    "Visualizing Distribution of Data\n",
    "\n",
    "Visualizing Relationships Between Variables\n",
    "\n",
    "Visualizing Categorical Data\n"
   ]
  },
  {
   "cell_type": "code",
   "execution_count": null,
   "id": "ef3a6d3d-b30c-4133-8458-df7284259ea0",
   "metadata": {},
   "outputs": [],
   "source": []
  },
  {
   "cell_type": "markdown",
   "id": "6b702258-e406-45e2-9290-138652465bef",
   "metadata": {},
   "source": [
    "1.  How do you create a 2D NumPy array and calculate the sum of each row?"
   ]
  },
  {
   "cell_type": "code",
   "execution_count": 28,
   "id": "809ad381-36de-4c39-8346-d4700e322543",
   "metadata": {},
   "outputs": [
    {
     "name": "stdout",
     "output_type": "stream",
     "text": [
      "2D Array: [[1 2 3]\n",
      " [4 5 6]\n",
      " [7 8 9]]\n",
      "Sum of each row: [ 6 15 24]\n"
     ]
    }
   ],
   "source": [
    "import numpy as np\n",
    "\n",
    "array = np.array([[1, 2, 3], [4, 5, 6], [7, 8, 9]])\n",
    "\n",
    "row_sums = np.sum(array, axis=1)\n",
    "\n",
    "print(\"2D Array:\", array)\n",
    "\n",
    "print(\"Sum of each row:\", row_sums)\n"
   ]
  },
  {
   "cell_type": "markdown",
   "id": "b05f753d-ffa0-450f-915e-0d6eaa7c1fa8",
   "metadata": {},
   "source": [
    "2. Write a Pandas script to find the mean of a specific column in a DataFrame?"
   ]
  },
  {
   "cell_type": "code",
   "execution_count": 29,
   "id": "bf7188fa-2e91-448a-beef-f890396e841b",
   "metadata": {},
   "outputs": [
    {
     "name": "stdout",
     "output_type": "stream",
     "text": [
      "Mean of column 'B': 25.0\n"
     ]
    }
   ],
   "source": [
    "import pandas as pd\n",
    "\n",
    "data = {'A': [10, 20, 30, 40, 50],\n",
    "        'B': [5, 15, 25, 35, 45],\n",
    "        'C': [2, 4, 6, 8, 10]}\n",
    "\n",
    "df = pd.DataFrame(data)\n",
    "\n",
    "mean_b = df['B'].mean()\n",
    "\n",
    "print(\"Mean of column 'B':\", mean_b)\n"
   ]
  },
  {
   "cell_type": "markdown",
   "id": "d52ca880-e183-4ed8-b352-efcff3d3b49f",
   "metadata": {},
   "source": [
    "3. Create a scatter plot using Matplotlib?"
   ]
  },
  {
   "cell_type": "code",
   "execution_count": 30,
   "id": "33babf0f-8229-4bb9-8df8-ce1149ca6ff4",
   "metadata": {},
   "outputs": [
    {
     "data": {
      "image/png": "[encoded data removed]",
      "text/plain": [
       "<Figure size 640x480 with 1 Axes>"
      ]
     },
     "metadata": {},
     "output_type": "display_data"
    }
   ],
   "source": [
    "import matplotlib.pyplot as plt\n",
    "import numpy as np\n",
    "\n",
    "x = np.random.rand(10) \n",
    "y = np.random.rand(10)  \n",
    "\n",
    "\n",
    "plt.scatter(x, y)\n",
    "\n",
    "\n",
    "plt.title(\"Scatter Plot Example\")\n",
    "plt.xlabel(\"X Axis\")\n",
    "plt.ylabel(\"Y Axis\")\n",
    "\n",
    "\n",
    "plt.show()\n"
   ]
  },
  {
   "cell_type": "markdown",
   "id": "09eb7b71-19af-455f-9f83-fbe95404eb1d",
   "metadata": {},
   "source": [
    "4. How do you calculate the correlation matrix using Seaborn and visualize it with a heatmap?"
   ]
  },
  {
   "cell_type": "code",
   "execution_count": 35,
   "id": "1d71d7e2-d1cc-4fd8-879d-2e3d458a55f0",
   "metadata": {},
   "outputs": [
    {
     "data": {
      "image/png": "[encoded data removed]",
      "text/plain": [
       "<Figure size 800x600 with 2 Axes>"
      ]
     },
     "metadata": {},
     "output_type": "display_data"
    }
   ],
   "source": [
    "import seaborn as sns\n",
    "import matplotlib.pyplot as plt\n",
    "import pandas as pd\n",
    "\n",
    "data = {\n",
    "    'A': [1, 2, 3, 4, 5],\n",
    "    'B': [5, 4, 3, 2, 1],\n",
    "    'C': [2, 3, 4, 5, 6],\n",
    "    'D': [5, 6, 7, 8, 9]\n",
    "}\n",
    "\n",
    "df = pd.DataFrame(data)\n",
    "\n",
    "\n",
    "corr_matrix = df.corr()\n",
    "\n",
    "\n",
    "plt.figure(figsize=(8, 6))  \n",
    "sns.heatmap(corr_matrix, annot=True, cmap='coolwarm', fmt='.2f', linewidths=0.5)\n",
    "\n",
    "plt.title(\"Correlation Matrix Heatmap\")\n",
    "plt.show()\n"
   ]
  },
  {
   "cell_type": "markdown",
   "id": "752ea4b0-03f4-44b7-be79-cf3bd77c8acc",
   "metadata": {},
   "source": [
    "5. Generate a bar plot using Plotly?"
   ]
  },
  {
   "cell_type": "code",
   "execution_count": 32,
   "id": "17048632-6ebb-4262-97b2-c1dd8a342e61",
   "metadata": {},
   "outputs": [
    {
     "data": {
      "application/vnd.plotly.v1+json": {
       "config": {
        "plotlyServerURL": "https://plot.ly"
       },
       "data": [
        {
         "alignmentgroup": "True",
         "hovertemplate": "x=%{x}<br>y=%{y}<extra></extra>",
         "legendgroup": "",
         "marker": {
          "color": "#636efa",
          "pattern": {
           "shape": ""
          }
         },
         "name": "",
         "offsetgroup": "",
         "orientation": "v",
         "showlegend": false,
         "textposition": "auto",
         "type": "bar",
         "x": [
          "A",
          "B",
          "C"
         ],
         "xaxis": "x",
         "y": [
          10,
          20,
          15
         ],
         "yaxis": "y"
        }
       ],
       "layout": {
        "autosize": true,
        "barmode": "relative",
        "legend": {
         "tracegroupgap": 0
        },
        "margin": {
         "t": 60
        },
        "template": {
         "data": {
          "bar": [
           {
            "error_x": {
             "color": "#2a3f5f"
            },
            "error_y": {
             "color": "#2a3f5f"
            },
            "marker": {
             "line": {
              "color": "#E5ECF6",
              "width": 0.5
             },
             "pattern": {
              "fillmode": "overlay",
              "size": 10,
              "solidity": 0.2
             }
            },
            "type": "bar"
           }
          ],
          "barpolar": [
           {
            "marker": {
             "line": {
              "color": "#E5ECF6",
              "width": 0.5
             },
             "pattern": {
              "fillmode": "overlay",
              "size": 10,
              "solidity": 0.2
             }
            },
            "type": "barpolar"
           }
          ],
          "carpet": [
           {
            "aaxis": {
             "endlinecolor": "#2a3f5f",
             "gridcolor": "white",
             "linecolor": "white",
             "minorgridcolor": "white",
             "startlinecolor": "#2a3f5f"
            },
            "baxis": {
             "endlinecolor": "#2a3f5f",
             "gridcolor": "white",
             "linecolor": "white",
             "minorgridcolor": "white",
             "startlinecolor": "#2a3f5f"
            },
            "type": "carpet"
           }
          ],
          "choropleth": [
           {
            "colorbar": {
             "outlinewidth": 0,
             "ticks": ""
            },
            "type": "choropleth"
           }
          ],
          "contour": [
           {
            "colorbar": {
             "outlinewidth": 0,
             "ticks": ""
            },
            "colorscale": [
             [
              0,
              "#0d0887"
             ],
             [
              0.1111111111111111,
              "#46039f"
             ],
             [
              0.2222222222222222,
              "#7201a8"
             ],
             [
              0.3333333333333333,
              "#9c179e"
             ],
             [
              0.4444444444444444,
              "#bd3786"
             ],
             [
              0.5555555555555556,
              "#d8576b"
             ],
             [
              0.6666666666666666,
              "#ed7953"
             ],
             [
              0.7777777777777778,
              "#fb9f3a"
             ],
             [
              0.8888888888888888,
              "#fdca26"
             ],
             [
              1,
              "#f0f921"
             ]
            ],
            "type": "contour"
           }
          ],
          "contourcarpet": [
           {
            "colorbar": {
             "outlinewidth": 0,
             "ticks": ""
            },
            "type": "contourcarpet"
           }
          ],
          "heatmap": [
           {
            "colorbar": {
             "outlinewidth": 0,
             "ticks": ""
            },
            "colorscale": [
             [
              0,
              "#0d0887"
             ],
             [
              0.1111111111111111,
              "#46039f"
             ],
             [
              0.2222222222222222,
              "#7201a8"
             ],
             [
              0.3333333333333333,
              "#9c179e"
             ],
             [
              0.4444444444444444,
              "#bd3786"
             ],
             [
              0.5555555555555556,
              "#d8576b"
             ],
             [
              0.6666666666666666,
              "#ed7953"
             ],
             [
              0.7777777777777778,
              "#fb9f3a"
             ],
             [
              0.8888888888888888,
              "#fdca26"
             ],
             [
              1,
              "#f0f921"
             ]
            ],
            "type": "heatmap"
           }
          ],
          "heatmapgl": [
           {
            "colorbar": {
             "outlinewidth": 0,
             "ticks": ""
            },
            "colorscale": [
             [
              0,
              "#0d0887"
             ],
             [
              0.1111111111111111,
              "#46039f"
             ],
             [
              0.2222222222222222,
              "#7201a8"
             ],
             [
              0.3333333333333333,
              "#9c179e"
             ],
             [
              0.4444444444444444,
              "#bd3786"
             ],
             [
              0.5555555555555556,
              "#d8576b"
             ],
             [
              0.6666666666666666,
              "#ed7953"
             ],
             [
              0.7777777777777778,
              "#fb9f3a"
             ],
             [
              0.8888888888888888,
              "#fdca26"
             ],
             [
              1,
              "#f0f921"
             ]
            ],
            "type": "heatmapgl"
           }
          ],
          "histogram": [
           {
            "marker": {
             "pattern": {
              "fillmode": "overlay",
              "size": 10,
              "solidity": 0.2
             }
            },
            "type": "histogram"
           }
          ],
          "histogram2d": [
           {
            "colorbar": {
             "outlinewidth": 0,
             "ticks": ""
            },
            "colorscale": [
             [
              0,
              "#0d0887"
             ],
             [
              0.1111111111111111,
              "#46039f"
             ],
             [
              0.2222222222222222,
              "#7201a8"
             ],
             [
              0.3333333333333333,
              "#9c179e"
             ],
             [
              0.4444444444444444,
              "#bd3786"
             ],
             [
              0.5555555555555556,
              "#d8576b"
             ],
             [
              0.6666666666666666,
              "#ed7953"
             ],
             [
              0.7777777777777778,
              "#fb9f3a"
             ],
             [
              0.8888888888888888,
              "#fdca26"
             ],
             [
              1,
              "#f0f921"
             ]
            ],
            "type": "histogram2d"
           }
          ],
          "histogram2dcontour": [
           {
            "colorbar": {
             "outlinewidth": 0,
             "ticks": ""
            },
            "colorscale": [
             [
              0,
              "#0d0887"
             ],
             [
              0.1111111111111111,
              "#46039f"
             ],
             [
              0.2222222222222222,
              "#7201a8"
             ],
             [
              0.3333333333333333,
              "#9c179e"
             ],
             [
              0.4444444444444444,
              "#bd3786"
             ],
             [
              0.5555555555555556,
              "#d8576b"
             ],
             [
              0.6666666666666666,
              "#ed7953"
             ],
             [
              0.7777777777777778,
              "#fb9f3a"
             ],
             [
              0.8888888888888888,
              "#fdca26"
             ],
             [
              1,
              "#f0f921"
             ]
            ],
            "type": "histogram2dcontour"
           }
          ],
          "mesh3d": [
           {
            "colorbar": {
             "outlinewidth": 0,
             "ticks": ""
            },
            "type": "mesh3d"
           }
          ],
          "parcoords": [
           {
            "line": {
             "colorbar": {
              "outlinewidth": 0,
              "ticks": ""
             }
            },
            "type": "parcoords"
           }
          ],
          "pie": [
           {
            "automargin": true,
            "type": "pie"
           }
          ],
          "scatter": [
           {
            "fillpattern": {
             "fillmode": "overlay",
             "size": 10,
             "solidity": 0.2
            },
            "type": "scatter"
           }
          ],
          "scatter3d": [
           {
            "line": {
             "colorbar": {
              "outlinewidth": 0,
              "ticks": ""
             }
            },
            "marker": {
             "colorbar": {
              "outlinewidth": 0,
              "ticks": ""
             }
            },
            "type": "scatter3d"
           }
          ],
          "scattercarpet": [
           {
            "marker": {
             "colorbar": {
              "outlinewidth": 0,
              "ticks": ""
             }
            },
            "type": "scattercarpet"
           }
          ],
          "scattergeo": [
           {
            "marker": {
             "colorbar": {
              "outlinewidth": 0,
              "ticks": ""
             }
            },
            "type": "scattergeo"
           }
          ],
          "scattergl": [
           {
            "marker": {
             "colorbar": {
              "outlinewidth": 0,
              "ticks": ""
             }
            },
            "type": "scattergl"
           }
          ],
          "scattermapbox": [
           {
            "marker": {
             "colorbar": {
              "outlinewidth": 0,
              "ticks": ""
             }
            },
            "type": "scattermapbox"
           }
          ],
          "scatterpolar": [
           {
            "marker": {
             "colorbar": {
              "outlinewidth": 0,
              "ticks": ""
             }
            },
            "type": "scatterpolar"
           }
          ],
          "scatterpolargl": [
           {
            "marker": {
             "colorbar": {
              "outlinewidth": 0,
              "ticks": ""
             }
            },
            "type": "scatterpolargl"
           }
          ],
          "scatterternary": [
           {
            "marker": {
             "colorbar": {
              "outlinewidth": 0,
              "ticks": ""
             }
            },
            "type": "scatterternary"
           }
          ],
          "surface": [
           {
            "colorbar": {
             "outlinewidth": 0,
             "ticks": ""
            },
            "colorscale": [
             [
              0,
              "#0d0887"
             ],
             [
              0.1111111111111111,
              "#46039f"
             ],
             [
              0.2222222222222222,
              "#7201a8"
             ],
             [
              0.3333333333333333,
              "#9c179e"
             ],
             [
              0.4444444444444444,
              "#bd3786"
             ],
             [
              0.5555555555555556,
              "#d8576b"
             ],
             [
              0.6666666666666666,
              "#ed7953"
             ],
             [
              0.7777777777777778,
              "#fb9f3a"
             ],
             [
              0.8888888888888888,
              "#fdca26"
             ],
             [
              1,
              "#f0f921"
             ]
            ],
            "type": "surface"
           }
          ],
          "table": [
           {
            "cells": {
             "fill": {
              "color": "#EBF0F8"
             },
             "line": {
              "color": "white"
             }
            },
            "header": {
             "fill": {
              "color": "#C8D4E3"
             },
             "line": {
              "color": "white"
             }
            },
            "type": "table"
           }
          ]
         },
         "layout": {
          "annotationdefaults": {
           "arrowcolor": "#2a3f5f",
           "arrowhead": 0,
           "arrowwidth": 1
          },
          "autotypenumbers": "strict",
          "coloraxis": {
           "colorbar": {
            "outlinewidth": 0,
            "ticks": ""
           }
          },
          "colorscale": {
           "diverging": [
            [
             0,
             "#8e0152"
            ],
            [
             0.1,
             "#c51b7d"
            ],
            [
             0.2,
             "#de77ae"
            ],
            [
             0.3,
             "#f1b6da"
            ],
            [
             0.4,
             "#fde0ef"
            ],
            [
             0.5,
             "#f7f7f7"
            ],
            [
             0.6,
             "#e6f5d0"
            ],
            [
             0.7,
             "#b8e186"
            ],
            [
             0.8,
             "#7fbc41"
            ],
            [
             0.9,
             "#4d9221"
            ],
            [
             1,
             "#276419"
            ]
           ],
           "sequential": [
            [
             0,
             "#0d0887"
            ],
            [
             0.1111111111111111,
             "#46039f"
            ],
            [
             0.2222222222222222,
             "#7201a8"
            ],
            [
             0.3333333333333333,
             "#9c179e"
            ],
            [
             0.4444444444444444,
             "#bd3786"
            ],
            [
             0.5555555555555556,
             "#d8576b"
            ],
            [
             0.6666666666666666,
             "#ed7953"
            ],
            [
             0.7777777777777778,
             "#fb9f3a"
            ],
            [
             0.8888888888888888,
             "#fdca26"
            ],
            [
             1,
             "#f0f921"
            ]
           ],
           "sequentialminus": [
            [
             0,
             "#0d0887"
            ],
            [
             0.1111111111111111,
             "#46039f"
            ],
            [
             0.2222222222222222,
             "#7201a8"
            ],
            [
             0.3333333333333333,
             "#9c179e"
            ],
            [
             0.4444444444444444,
             "#bd3786"
            ],
            [
             0.5555555555555556,
             "#d8576b"
            ],
            [
             0.6666666666666666,
             "#ed7953"
            ],
            [
             0.7777777777777778,
             "#fb9f3a"
            ],
            [
             0.8888888888888888,
             "#fdca26"
            ],
            [
             1,
             "#f0f921"
            ]
           ]
          },
          "colorway": [
           "#636efa",
           "#EF553B",
           "#00cc96",
           "#ab63fa",
           "#FFA15A",
           "#19d3f3",
           "#FF6692",
           "#B6E880",
           "#FF97FF",
           "#FECB52"
          ],
          "font": {
           "color": "#2a3f5f"
          },
          "geo": {
           "bgcolor": "white",
           "lakecolor": "white",
           "landcolor": "#E5ECF6",
           "showlakes": true,
           "showland": true,
           "subunitcolor": "white"
          },
          "hoverlabel": {
           "align": "left"
          },
          "hovermode": "closest",
          "mapbox": {
           "style": "light"
          },
          "paper_bgcolor": "white",
          "plot_bgcolor": "#E5ECF6",
          "polar": {
           "angularaxis": {
            "gridcolor": "white",
            "linecolor": "white",
            "ticks": ""
           },
           "bgcolor": "#E5ECF6",
           "radialaxis": {
            "gridcolor": "white",
            "linecolor": "white",
            "ticks": ""
           }
          },
          "scene": {
           "xaxis": {
            "backgroundcolor": "#E5ECF6",
            "gridcolor": "white",
            "gridwidth": 2,
            "linecolor": "white",
            "showbackground": true,
            "ticks": "",
            "zerolinecolor": "white"
           },
           "yaxis": {
            "backgroundcolor": "#E5ECF6",
            "gridcolor": "white",
            "gridwidth": 2,
            "linecolor": "white",
            "showbackground": true,
            "ticks": "",
            "zerolinecolor": "white"
           },
           "zaxis": {
            "backgroundcolor": "#E5ECF6",
            "gridcolor": "white",
            "gridwidth": 2,
            "linecolor": "white",
            "showbackground": true,
            "ticks": "",
            "zerolinecolor": "white"
           }
          },
          "shapedefaults": {
           "line": {
            "color": "#2a3f5f"
           }
          },
          "ternary": {
           "aaxis": {
            "gridcolor": "white",
            "linecolor": "white",
            "ticks": ""
           },
           "baxis": {
            "gridcolor": "white",
            "linecolor": "white",
            "ticks": ""
           },
           "bgcolor": "#E5ECF6",
           "caxis": {
            "gridcolor": "white",
            "linecolor": "white",
            "ticks": ""
           }
          },
          "title": {
           "x": 0.05
          },
          "xaxis": {
           "automargin": true,
           "gridcolor": "white",
           "linecolor": "white",
           "ticks": "",
           "title": {
            "standoff": 15
           },
           "zerolinecolor": "white",
           "zerolinewidth": 2
          },
          "yaxis": {
           "automargin": true,
           "gridcolor": "white",
           "linecolor": "white",
           "ticks": "",
           "title": {
            "standoff": 15
           },
           "zerolinecolor": "white",
           "zerolinewidth": 2
          }
         }
        },
        "xaxis": {
         "anchor": "y",
         "autorange": true,
         "domain": [
          0,
          1
         ],
         "range": [
          -0.5,
          2.5
         ],
         "title": {
          "text": "x"
         },
         "type": "category"
        },
        "yaxis": {
         "anchor": "x",
         "autorange": true,
         "domain": [
          0,
          1
         ],
         "range": [
          0,
          21.05263157894737
         ],
         "title": {
          "text": "y"
         },
         "type": "linear"
        }
       }
      },
      "text/html": [
       "<div>                            <div id=\"7c0086c6-44f8-4a9a-b4ee-678e35b7cdce\" class=\"plotly-graph-div\" style=\"height:525px; width:100%;\"></div>            <script type=\"text/javascript\">                require([\"plotly\"], function(Plotly) {                    window.PLOTLYENV=window.PLOTLYENV || {};                                    if (document.getElementById(\"7c0086c6-44f8-4a9a-b4ee-678e35b7cdce\")) {                    Plotly.newPlot(                        \"7c0086c6-44f8-4a9a-b4ee-678e35b7cdce\",                        [{\"alignmentgroup\":\"True\",\"hovertemplate\":\"x=%{x}\\u003cbr\\u003ey=%{y}\\u003cextra\\u003e\\u003c\\u002fextra\\u003e\",\"legendgroup\":\"\",\"marker\":{\"color\":\"#636efa\",\"pattern\":{\"shape\":\"\"}},\"name\":\"\",\"offsetgroup\":\"\",\"orientation\":\"v\",\"showlegend\":false,\"textposition\":\"auto\",\"x\":[\"A\",\"B\",\"C\"],\"xaxis\":\"x\",\"y\":[10,20,15],\"yaxis\":\"y\",\"type\":\"bar\"}],                        {\"template\":{\"data\":{\"histogram2dcontour\":[{\"type\":\"histogram2dcontour\",\"colorbar\":{\"outlinewidth\":0,\"ticks\":\"\"},\"colorscale\":[[0.0,\"#0d0887\"],[0.1111111111111111,\"#46039f\"],[0.2222222222222222,\"#7201a8\"],[0.3333333333333333,\"#9c179e\"],[0.4444444444444444,\"#bd3786\"],[0.5555555555555556,\"#d8576b\"],[0.6666666666666666,\"#ed7953\"],[0.7777777777777778,\"#fb9f3a\"],[0.8888888888888888,\"#fdca26\"],[1.0,\"#f0f921\"]]}],\"choropleth\":[{\"type\":\"choropleth\",\"colorbar\":{\"outlinewidth\":0,\"ticks\":\"\"}}],\"histogram2d\":[{\"type\":\"histogram2d\",\"colorbar\":{\"outlinewidth\":0,\"ticks\":\"\"},\"colorscale\":[[0.0,\"#0d0887\"],[0.1111111111111111,\"#46039f\"],[0.2222222222222222,\"#7201a8\"],[0.3333333333333333,\"#9c179e\"],[0.4444444444444444,\"#bd3786\"],[0.5555555555555556,\"#d8576b\"],[0.6666666666666666,\"#ed7953\"],[0.7777777777777778,\"#fb9f3a\"],[0.8888888888888888,\"#fdca26\"],[1.0,\"#f0f921\"]]}],\"heatmap\":[{\"type\":\"heatmap\",\"colorbar\":{\"outlinewidth\":0,\"ticks\":\"\"},\"colorscale\":[[0.0,\"#0d0887\"],[0.1111111111111111,\"#46039f\"],[0.2222222222222222,\"#7201a8\"],[0.3333333333333333,\"#9c179e\"],[0.4444444444444444,\"#bd3786\"],[0.5555555555555556,\"#d8576b\"],[0.6666666666666666,\"#ed7953\"],[0.7777777777777778,\"#fb9f3a\"],[0.8888888888888888,\"#fdca26\"],[1.0,\"#f0f921\"]]}],\"heatmapgl\":[{\"type\":\"heatmapgl\",\"colorbar\":{\"outlinewidth\":0,\"ticks\":\"\"},\"colorscale\":[[0.0,\"#0d0887\"],[0.1111111111111111,\"#46039f\"],[0.2222222222222222,\"#7201a8\"],[0.3333333333333333,\"#9c179e\"],[0.4444444444444444,\"#bd3786\"],[0.5555555555555556,\"#d8576b\"],[0.6666666666666666,\"#ed7953\"],[0.7777777777777778,\"#fb9f3a\"],[0.8888888888888888,\"#fdca26\"],[1.0,\"#f0f921\"]]}],\"contourcarpet\":[{\"type\":\"contourcarpet\",\"colorbar\":{\"outlinewidth\":0,\"ticks\":\"\"}}],\"contour\":[{\"type\":\"contour\",\"colorbar\":{\"outlinewidth\":0,\"ticks\":\"\"},\"colorscale\":[[0.0,\"#0d0887\"],[0.1111111111111111,\"#46039f\"],[0.2222222222222222,\"#7201a8\"],[0.3333333333333333,\"#9c179e\"],[0.4444444444444444,\"#bd3786\"],[0.5555555555555556,\"#d8576b\"],[0.6666666666666666,\"#ed7953\"],[0.7777777777777778,\"#fb9f3a\"],[0.8888888888888888,\"#fdca26\"],[1.0,\"#f0f921\"]]}],\"surface\":[{\"type\":\"surface\",\"colorbar\":{\"outlinewidth\":0,\"ticks\":\"\"},\"colorscale\":[[0.0,\"#0d0887\"],[0.1111111111111111,\"#46039f\"],[0.2222222222222222,\"#7201a8\"],[0.3333333333333333,\"#9c179e\"],[0.4444444444444444,\"#bd3786\"],[0.5555555555555556,\"#d8576b\"],[0.6666666666666666,\"#ed7953\"],[0.7777777777777778,\"#fb9f3a\"],[0.8888888888888888,\"#fdca26\"],[1.0,\"#f0f921\"]]}],\"mesh3d\":[{\"type\":\"mesh3d\",\"colorbar\":{\"outlinewidth\":0,\"ticks\":\"\"}}],\"scatter\":[{\"fillpattern\":{\"fillmode\":\"overlay\",\"size\":10,\"solidity\":0.2},\"type\":\"scatter\"}],\"parcoords\":[{\"type\":\"parcoords\",\"line\":{\"colorbar\":{\"outlinewidth\":0,\"ticks\":\"\"}}}],\"scatterpolargl\":[{\"type\":\"scatterpolargl\",\"marker\":{\"colorbar\":{\"outlinewidth\":0,\"ticks\":\"\"}}}],\"bar\":[{\"error_x\":{\"color\":\"#2a3f5f\"},\"error_y\":{\"color\":\"#2a3f5f\"},\"marker\":{\"line\":{\"color\":\"#E5ECF6\",\"width\":0.5},\"pattern\":{\"fillmode\":\"overlay\",\"size\":10,\"solidity\":0.2}},\"type\":\"bar\"}],\"scattergeo\":[{\"type\":\"scattergeo\",\"marker\":{\"colorbar\":{\"outlinewidth\":0,\"ticks\":\"\"}}}],\"scatterpolar\":[{\"type\":\"scatterpolar\",\"marker\":{\"colorbar\":{\"outlinewidth\":0,\"ticks\":\"\"}}}],\"histogram\":[{\"marker\":{\"pattern\":{\"fillmode\":\"overlay\",\"size\":10,\"solidity\":0.2}},\"type\":\"histogram\"}],\"scattergl\":[{\"type\":\"scattergl\",\"marker\":{\"colorbar\":{\"outlinewidth\":0,\"ticks\":\"\"}}}],\"scatter3d\":[{\"type\":\"scatter3d\",\"line\":{\"colorbar\":{\"outlinewidth\":0,\"ticks\":\"\"}},\"marker\":{\"colorbar\":{\"outlinewidth\":0,\"ticks\":\"\"}}}],\"scattermapbox\":[{\"type\":\"scattermapbox\",\"marker\":{\"colorbar\":{\"outlinewidth\":0,\"ticks\":\"\"}}}],\"scatterternary\":[{\"type\":\"scatterternary\",\"marker\":{\"colorbar\":{\"outlinewidth\":0,\"ticks\":\"\"}}}],\"scattercarpet\":[{\"type\":\"scattercarpet\",\"marker\":{\"colorbar\":{\"outlinewidth\":0,\"ticks\":\"\"}}}],\"carpet\":[{\"aaxis\":{\"endlinecolor\":\"#2a3f5f\",\"gridcolor\":\"white\",\"linecolor\":\"white\",\"minorgridcolor\":\"white\",\"startlinecolor\":\"#2a3f5f\"},\"baxis\":{\"endlinecolor\":\"#2a3f5f\",\"gridcolor\":\"white\",\"linecolor\":\"white\",\"minorgridcolor\":\"white\",\"startlinecolor\":\"#2a3f5f\"},\"type\":\"carpet\"}],\"table\":[{\"cells\":{\"fill\":{\"color\":\"#EBF0F8\"},\"line\":{\"color\":\"white\"}},\"header\":{\"fill\":{\"color\":\"#C8D4E3\"},\"line\":{\"color\":\"white\"}},\"type\":\"table\"}],\"barpolar\":[{\"marker\":{\"line\":{\"color\":\"#E5ECF6\",\"width\":0.5},\"pattern\":{\"fillmode\":\"overlay\",\"size\":10,\"solidity\":0.2}},\"type\":\"barpolar\"}],\"pie\":[{\"automargin\":true,\"type\":\"pie\"}]},\"layout\":{\"autotypenumbers\":\"strict\",\"colorway\":[\"#636efa\",\"#EF553B\",\"#00cc96\",\"#ab63fa\",\"#FFA15A\",\"#19d3f3\",\"#FF6692\",\"#B6E880\",\"#FF97FF\",\"#FECB52\"],\"font\":{\"color\":\"#2a3f5f\"},\"hovermode\":\"closest\",\"hoverlabel\":{\"align\":\"left\"},\"paper_bgcolor\":\"white\",\"plot_bgcolor\":\"#E5ECF6\",\"polar\":{\"bgcolor\":\"#E5ECF6\",\"angularaxis\":{\"gridcolor\":\"white\",\"linecolor\":\"white\",\"ticks\":\"\"},\"radialaxis\":{\"gridcolor\":\"white\",\"linecolor\":\"white\",\"ticks\":\"\"}},\"ternary\":{\"bgcolor\":\"#E5ECF6\",\"aaxis\":{\"gridcolor\":\"white\",\"linecolor\":\"white\",\"ticks\":\"\"},\"baxis\":{\"gridcolor\":\"white\",\"linecolor\":\"white\",\"ticks\":\"\"},\"caxis\":{\"gridcolor\":\"white\",\"linecolor\":\"white\",\"ticks\":\"\"}},\"coloraxis\":{\"colorbar\":{\"outlinewidth\":0,\"ticks\":\"\"}},\"colorscale\":{\"sequential\":[[0.0,\"#0d0887\"],[0.1111111111111111,\"#46039f\"],[0.2222222222222222,\"#7201a8\"],[0.3333333333333333,\"#9c179e\"],[0.4444444444444444,\"#bd3786\"],[0.5555555555555556,\"#d8576b\"],[0.6666666666666666,\"#ed7953\"],[0.7777777777777778,\"#fb9f3a\"],[0.8888888888888888,\"#fdca26\"],[1.0,\"#f0f921\"]],\"sequentialminus\":[[0.0,\"#0d0887\"],[0.1111111111111111,\"#46039f\"],[0.2222222222222222,\"#7201a8\"],[0.3333333333333333,\"#9c179e\"],[0.4444444444444444,\"#bd3786\"],[0.5555555555555556,\"#d8576b\"],[0.6666666666666666,\"#ed7953\"],[0.7777777777777778,\"#fb9f3a\"],[0.8888888888888888,\"#fdca26\"],[1.0,\"#f0f921\"]],\"diverging\":[[0,\"#8e0152\"],[0.1,\"#c51b7d\"],[0.2,\"#de77ae\"],[0.3,\"#f1b6da\"],[0.4,\"#fde0ef\"],[0.5,\"#f7f7f7\"],[0.6,\"#e6f5d0\"],[0.7,\"#b8e186\"],[0.8,\"#7fbc41\"],[0.9,\"#4d9221\"],[1,\"#276419\"]]},\"xaxis\":{\"gridcolor\":\"white\",\"linecolor\":\"white\",\"ticks\":\"\",\"title\":{\"standoff\":15},\"zerolinecolor\":\"white\",\"automargin\":true,\"zerolinewidth\":2},\"yaxis\":{\"gridcolor\":\"white\",\"linecolor\":\"white\",\"ticks\":\"\",\"title\":{\"standoff\":15},\"zerolinecolor\":\"white\",\"automargin\":true,\"zerolinewidth\":2},\"scene\":{\"xaxis\":{\"backgroundcolor\":\"#E5ECF6\",\"gridcolor\":\"white\",\"linecolor\":\"white\",\"showbackground\":true,\"ticks\":\"\",\"zerolinecolor\":\"white\",\"gridwidth\":2},\"yaxis\":{\"backgroundcolor\":\"#E5ECF6\",\"gridcolor\":\"white\",\"linecolor\":\"white\",\"showbackground\":true,\"ticks\":\"\",\"zerolinecolor\":\"white\",\"gridwidth\":2},\"zaxis\":{\"backgroundcolor\":\"#E5ECF6\",\"gridcolor\":\"white\",\"linecolor\":\"white\",\"showbackground\":true,\"ticks\":\"\",\"zerolinecolor\":\"white\",\"gridwidth\":2}},\"shapedefaults\":{\"line\":{\"color\":\"#2a3f5f\"}},\"annotationdefaults\":{\"arrowcolor\":\"#2a3f5f\",\"arrowhead\":0,\"arrowwidth\":1},\"geo\":{\"bgcolor\":\"white\",\"landcolor\":\"#E5ECF6\",\"subunitcolor\":\"white\",\"showland\":true,\"showlakes\":true,\"lakecolor\":\"white\"},\"title\":{\"x\":0.05},\"mapbox\":{\"style\":\"light\"}}},\"xaxis\":{\"anchor\":\"y\",\"domain\":[0.0,1.0],\"title\":{\"text\":\"x\"}},\"yaxis\":{\"anchor\":\"x\",\"domain\":[0.0,1.0],\"title\":{\"text\":\"y\"}},\"legend\":{\"tracegroupgap\":0},\"margin\":{\"t\":60},\"barmode\":\"relative\"},                        {\"responsive\": true}                    ).then(function(){\n",
       "                            \n",
       "var gd = document.getElementById('7c0086c6-44f8-4a9a-b4ee-678e35b7cdce');\n",
       "var x = new MutationObserver(function (mutations, observer) {{\n",
       "        var display = window.getComputedStyle(gd).display;\n",
       "        if (!display || display === 'none') {{\n",
       "            console.log([gd, 'removed!']);\n",
       "            Plotly.purge(gd);\n",
       "            observer.disconnect();\n",
       "        }}\n",
       "}});\n",
       "\n",
       "// Listen for the removal of the full notebook cells\n",
       "var notebookContainer = gd.closest('#notebook-container');\n",
       "if (notebookContainer) {{\n",
       "    x.observe(notebookContainer, {childList: true});\n",
       "}}\n",
       "\n",
       "// Listen for the clearing of the current output cell\n",
       "var outputEl = gd.closest('.output');\n",
       "if (outputEl) {{\n",
       "    x.observe(outputEl, {childList: true});\n",
       "}}\n",
       "\n",
       "                        })                };                });            </script>        </div>"
      ]
     },
     "metadata": {},
     "output_type": "display_data"
    }
   ],
   "source": [
    "import plotly.express as px\n",
    "\n",
    "x=['A', 'B', 'C']\n",
    "y=[10, 20, 15]\n",
    "\n",
    "\n",
    "fig = px.bar(x=['A', 'B', 'C'], y=[10, 20, 15])\n",
    "fig.show()"
   ]
  },
  {
   "cell_type": "markdown",
   "id": "5b63a3dc-797d-43f2-8164-05e5cfc3c468",
   "metadata": {},
   "source": [
    "6. Create a DataFrame and add a new column based on an existing column?"
   ]
  },
  {
   "cell_type": "code",
   "execution_count": 36,
   "id": "66af8d40-615f-4603-a4c0-e1685da9c647",
   "metadata": {},
   "outputs": [
    {
     "name": "stdout",
     "output_type": "stream",
     "text": [
      "    A   B    C\n",
      "0  10   5   20\n",
      "1  20  15   40\n",
      "2  30  25   60\n",
      "3  40  35   80\n",
      "4  50  45  100\n"
     ]
    }
   ],
   "source": [
    "import pandas as pd\n",
    "\n",
    "data = {'A': [10, 20, 30, 40, 50], \n",
    "        'B': [5, 15, 25, 35, 45]}\n",
    "\n",
    "df = pd.DataFrame(data)\n",
    "\n",
    "\n",
    "df['C'] = df['A'] * 2\n",
    "\n",
    "print(df)\n"
   ]
  },
  {
   "cell_type": "markdown",
   "id": "bf4bfaa5-7fec-4033-a182-6d1f57e6b166",
   "metadata": {},
   "source": [
    "7.Write a program to perform element-wise multiplication of two NumPy arrays?"
   ]
  },
  {
   "cell_type": "code",
   "execution_count": 37,
   "id": "d35af28d-ecea-4753-8242-5fe743dfdfcf",
   "metadata": {},
   "outputs": [
    {
     "name": "stdout",
     "output_type": "stream",
     "text": [
      "Result of element-wise multiplication:\n",
      "[ 6 14 24 36 50]\n"
     ]
    }
   ],
   "source": [
    "import numpy as np\n",
    "\n",
    "array1 = np.array([1, 2, 3, 4, 5])\n",
    "array2 = np.array([6, 7, 8, 9, 10])\n",
    "\n",
    "\n",
    "result = array1 * array2\n",
    "\n",
    "\n",
    "print(\"Result of element-wise multiplication:\")\n",
    "print(result)\n"
   ]
  },
  {
   "cell_type": "markdown",
   "id": "887ba7be-5b48-40cc-8d88-201568fde72a",
   "metadata": {},
   "source": [
    "8.  Create a line plot with multiple lines using Matplotlib?"
   ]
  },
  {
   "cell_type": "code",
   "execution_count": 38,
   "id": "54a87a60-0fa8-4bd1-b41d-a673768a522b",
   "metadata": {},
   "outputs": [
    {
     "data": {
      "image/png": "[encoded data removed]",
      "text/plain": [
       "<Figure size 640x480 with 1 Axes>"
      ]
     },
     "metadata": {},
     "output_type": "display_data"
    }
   ],
   "source": [
    "import matplotlib.pyplot as plt\n",
    "\n",
    "x = [1, 2, 3, 4, 5]\n",
    "y1 = [8, 5, 9, 11, 7]\n",
    "y2 = [9, 7, 5, 6, 10]\n",
    "\n",
    "\n",
    "plt.plot(x, y1, marker='o', linestyle=':', color='b', label='Line 1')\n",
    "plt.plot(x, y2, marker='s', linestyle='--', color='r', label='Line 2')\n",
    "\n",
    "\n",
    "plt.xlabel(\"X-axis\")\n",
    "plt.ylabel(\"Y-axis\")\n",
    "plt.title(\"Multiple Lines on One Plot\")\n",
    "plt.legend()\n",
    "\n",
    "\n",
    "plt.show()"
   ]
  },
  {
   "cell_type": "markdown",
   "id": "06c04699-9a8a-4fe2-a3ff-27a9a6262ec0",
   "metadata": {},
   "source": [
    "9. Generate a Pandas DataFrame and filter rows where a column value is greater than a threshold?"
   ]
  },
  {
   "cell_type": "code",
   "execution_count": 40,
   "id": "2f80bdcb-bf26-4b1b-817f-2640faad071f",
   "metadata": {},
   "outputs": [
    {
     "name": "stdout",
     "output_type": "stream",
     "text": [
      "Filtered DataFrame:\n",
      "    A   B   C\n",
      "3  40  35   8\n",
      "4  50  45  10\n"
     ]
    }
   ],
   "source": [
    "import pandas as pd\n",
    "\n",
    "data = {'A': [10, 20, 30, 40, 50],\n",
    "        'B': [5, 15, 25, 35, 45],\n",
    "        'C': [2, 4, 6, 8, 10]}\n",
    "\n",
    "df = pd.DataFrame(data)\n",
    "\n",
    "threshold = 30\n",
    "\n",
    "\n",
    "filtered_df = df[df['A'] > threshold]\n",
    "\n",
    "print(\"Filtered DataFrame:\")\n",
    "print(filtered_df)\n"
   ]
  },
  {
   "cell_type": "markdown",
   "id": "f0583885-c186-4e2a-819e-fe9ff1a9c483",
   "metadata": {},
   "source": [
    "10. Create a histogram using Seaborn to visualize a distribution?"
   ]
  },
  {
   "cell_type": "code",
   "execution_count": 44,
   "id": "c956e780-dfe8-4840-938a-ae069e135a21",
   "metadata": {},
   "outputs": [
    {
     "data": {
      "image/png": "[encoded data removed]",
      "text/plain": [
       "<Figure size 640x480 with 1 Axes>"
      ]
     },
     "metadata": {},
     "output_type": "display_data"
    }
   ],
   "source": [
    "import seaborn as sns\n",
    "import matplotlib.pyplot as plt\n",
    "\n",
    "\n",
    "data = [12, 15, 13, 17, 19, 21, 20, 25, 28, 30, 33, 35, 37, 40, 45, 50]\n",
    "\n",
    "sns.histplot(data, bins=10,color='blue')\n",
    "\n",
    "plt.title('Histogram')\n",
    "plt.xlabel('Value')\n",
    "plt.ylabel('Frequency')\n",
    "\n",
    "\n",
    "plt.show()\n"
   ]
  },
  {
   "cell_type": "markdown",
   "id": "b22dfefa-45a9-482c-b758-f3d6e281e6ec",
   "metadata": {},
   "source": [
    "11. A Perform matrix multiplication using NumPy?"
   ]
  },
  {
   "cell_type": "code",
   "execution_count": 45,
   "id": "ee972050-d2e6-47f5-a1bb-e4dd720f832f",
   "metadata": {},
   "outputs": [
    {
     "name": "stdout",
     "output_type": "stream",
     "text": [
      "[[19 22]\n",
      " [43 50]]\n"
     ]
    }
   ],
   "source": [
    "import numpy as np\n",
    "\n",
    "A = np.array([[1, 2], \n",
    "              [3, 4]])\n",
    "\n",
    "B = np.array([[5, 6], \n",
    "              [7, 8]])\n",
    "\n",
    "\n",
    "result = np.dot(A, B)\n",
    "\n",
    "\n",
    "print(result)\n"
   ]
  },
  {
   "cell_type": "markdown",
   "id": "60f98469-7d6f-43f2-b001-056def97e0bd",
   "metadata": {},
   "source": [
    "12. Use Pandas to load a CSV file and display its first 5 rows?"
   ]
  },
  {
   "cell_type": "code",
   "execution_count": 48,
   "id": "863503ba-a8f7-4c51-8997-df7a192fa988",
   "metadata": {},
   "outputs": [
    {
     "name": "stdout",
     "output_type": "stream",
     "text": [
      "   PassengerId  Survived  Pclass  \\\n",
      "0            1         0       3   \n",
      "1            2         1       1   \n",
      "2            3         1       3   \n",
      "3            4         1       1   \n",
      "4            5         0       3   \n",
      "\n",
      "                                                Name     Sex   Age  SibSp  \\\n",
      "0                            Braund, Mr. Owen Harris    male  22.0      1   \n",
      "1  Cumings, Mrs. John Bradley (Florence Briggs Th...  female  38.0      1   \n",
      "2                             Heikkinen, Miss. Laina  female  26.0      0   \n",
      "3       Futrelle, Mrs. Jacques Heath (Lily May Peel)  female  35.0      1   \n",
      "4                           Allen, Mr. William Henry    male  35.0      0   \n",
      "\n",
      "   Parch            Ticket     Fare Cabin Embarked  \n",
      "0      0         A/5 21171   7.2500   NaN        S  \n",
      "1      0          PC 17599  71.2833   C85        C  \n",
      "2      0  STON/O2. 3101282   7.9250   NaN        S  \n",
      "3      0            113803  53.1000  C123        S  \n",
      "4      0            373450   8.0500   NaN        S  \n"
     ]
    }
   ],
   "source": [
    "import pandas as pd\n",
    "\n",
    "df = pd.read_csv(\"https://raw.githubusercontent.com/datasciencedojo/datasets/master/titanic.csv\")\n",
    "\n",
    "print(df.head())\n"
   ]
  },
  {
   "cell_type": "markdown",
   "id": "44bb1af0-fc08-42d1-8167-59c44e04af85",
   "metadata": {},
   "source": [
    "13. Create a 3D scatter plot using Plotly?"
   ]
  },
  {
   "cell_type": "code",
   "execution_count": 50,
   "id": "17bd7a84-6413-4273-a2a4-bc3fd2745f59",
   "metadata": {},
   "outputs": [
    {
     "data": {
      "application/vnd.plotly.v1+json": {
       "config": {
        "plotlyServerURL": "https://plot.ly"
       },
       "data": [
        {
         "hovertemplate": "x=%{x}<br>y=%{y}<br>z=%{marker.color}<extra></extra>",
         "legendgroup": "",
         "marker": {
          "color": [
           0.15816210303925937,
           0.16762537149234136,
           0.795705278820892,
           0.35023774050612755,
           0.9680322325837672,
           0.7362067619588517,
           0.7199015835073299,
           0.9715516389191914,
           0.19094963699146905,
           0.76338351516647,
           0.7287183178640764,
           0.8709097797388804,
           0.8274414166562959,
           0.10049508517374228,
           0.5529676621101951,
           0.7299237945533288,
           0.6458358042832527,
           0.8983883247208175,
           0.6507798968312044,
           0.1402542247757026,
           0.5741079764445287,
           0.2799958973651856,
           0.33519985568537736,
           0.7565868152254294,
           0.014663666747128934,
           0.7876434059888031,
           0.5205660669395776,
           0.9833904985531527,
           0.8922346540135065,
           0.2560974683873001,
           0.05871574245082889,
           0.5638816119263035,
           0.089895184246637,
           0.35166981469531267,
           0.3260612859747446,
           0.2860661668993494,
           0.3566077414082971,
           0.23458162554407214,
           0.3049583325914338,
           0.8972694315553149,
           0.5968568732139486,
           0.8257105097074804,
           0.6131312972258613,
           0.21947754084611826,
           0.2161173037580889,
           0.18062541580109492,
           0.14316411191688183,
           0.9520695518925559,
           0.3848465658360083,
           0.38432529318815123,
           0.28549321135875205,
           0.8018544252486941,
           0.18065243296659372,
           0.002608656983302593,
           0.9781503801567325,
           0.15506930442642886,
           0.05628714928214973,
           0.4875091969875739,
           0.5926850342753659,
           0.5562918623989207,
           0.6699730497776376,
           0.9305792599834016,
           0.775483473963107,
           0.3760081141222673,
           0.8194675196651172,
           0.9158446805076541,
           0.3673976369031742,
           0.5732364800116639,
           0.13609172077139975,
           0.4604196095045534,
           0.6119122890900708,
           0.8849904186537412,
           0.7843986231329279,
           0.12027034048035168,
           0.3662774675386372,
           0.18806741522582482,
           0.3937786964934159,
           0.27268898742959635,
           0.6415726350216473,
           0.9821158667592207,
           0.8701156565222413,
           0.0018884541933884558,
           0.010916501702968984,
           0.7283027944068452,
           0.5951233279370728,
           0.5254163612390536,
           0.5105393007082011,
           0.9213146718221753,
           0.5666581432013059,
           0.258543707062338,
           0.4961994325303887,
           0.18741758982867407,
           0.06632342942970582,
           0.08089467592575705,
           0.32254666534909204,
           0.6421642596087397,
           0.6731345430562311,
           0.7688752679664989,
           0.04359148925302936,
           0.9868211830610939
          ],
          "coloraxis": "coloraxis",
          "symbol": "circle"
         },
         "mode": "markers",
         "name": "",
         "scene": "scene",
         "showlegend": false,
         "type": "scatter3d",
         "x": [
          0.4642614901222477,
          0.9898979584436552,
          0.8387187899152058,
          0.7204786529221513,
          0.21893028975743456,
          0.4576369954825754,
          0.7118534973699201,
          0.9681737190251339,
          0.3444629434067422,
          0.3672930854681742,
          0.3751489850924702,
          0.24335822350528225,
          0.4039167957831681,
          0.8314513043517998,
          0.20165956382578332,
          0.7630372047597505,
          0.1359982217267547,
          0.5395636136597798,
          0.7222317168057395,
          0.9665162388048134,
          0.9320439802459833,
          0.8601769594140014,
          0.012886515000241405,
          0.05395302349576314,
          0.5478651803210625,
          0.8869996893125737,
          0.9696741424128887,
          0.7915434632081458,
          0.5028761698392883,
          0.019410779511844445,
          0.47863615042371177,
          0.885238055455352,
          0.34727707839568234,
          0.7055811560147437,
          0.06667735017330711,
          0.24694251185158966,
          0.5318493104675377,
          0.37267609660753764,
          0.12063078273528416,
          0.3956536962229178,
          0.4349425082838194,
          0.5716156917377613,
          0.541122219014866,
          0.7739960064079668,
          0.946596921057487,
          0.4577067853730509,
          0.8131080917528881,
          0.34341075470306304,
          0.18141598914253843,
          0.8876611305323304,
          0.049308846344405355,
          0.9256710197268224,
          0.3811232554427313,
          0.5669741737540739,
          0.32441956018610285,
          0.3687756191898881,
          0.7499208697736259,
          0.4593504306237681,
          0.4232844053458791,
          0.6522855820216565,
          0.05419494916064749,
          0.8038572794827014,
          0.6586884975699787,
          0.6622665442229262,
          0.5261868273026779,
          0.26268876849879763,
          0.7825069478581168,
          0.5058118133304348,
          0.2926375073188374,
          0.9711390045130113,
          0.05309123041847874,
          0.3091750302951505,
          0.25737781911740876,
          0.7912682987818542,
          0.7492274402865517,
          0.011506743918944351,
          0.2117176613670705,
          0.7767402375235463,
          0.945548079350934,
          0.8748864172567078,
          0.26700154628361406,
          0.023516888811800363,
          0.9415773409979388,
          0.15843511378721342,
          0.047988159225760385,
          0.65407434092128,
          0.6945599088673259,
          0.01990821805488141,
          0.9211334635546033,
          0.482688541152238,
          0.7605587860259571,
          0.3598434986491713,
          0.0586985910584884,
          0.9031606426065969,
          0.4537924468711484,
          0.3942955333380893,
          0.34441952031378,
          0.7068007384825618,
          0.5956993498167626,
          0.9763085542667836
         ],
         "y": [
          0.19848171182141627,
          0.7406690469693249,
          0.05083879425462423,
          0.7453258020010897,
          0.1736482459441574,
          0.9806525097716647,
          0.49216159765961764,
          0.29580366048403317,
          0.0823740973461986,
          0.18104145485692358,
          0.771213350014541,
          0.8062170623529732,
          0.5085648899371356,
          0.9258349287821471,
          0.6873045284207745,
          0.912980137797816,
          0.4713213127110458,
          0.38972818736847525,
          0.9299783497474019,
          0.8960394159126094,
          0.6570371600319113,
          0.27642443296251973,
          0.6652989134529518,
          0.636632406429307,
          0.7044878153797137,
          0.298594547603683,
          0.2794027548096879,
          0.3088080496090033,
          0.7606133102482707,
          0.5131180431356028,
          0.6914643491438346,
          0.9114104541589383,
          0.3486818794204013,
          0.3121915159945715,
          0.047216152860756644,
          0.6345824933506481,
          0.767737739316259,
          0.6384571245204202,
          0.6277756019132977,
          0.7492212387040408,
          0.07363834354941878,
          0.619504868413392,
          0.30266313405257383,
          0.03532769957100823,
          0.5818903975244638,
          0.5778228688398264,
          0.8823695003055215,
          0.03342672652931933,
          0.30166289723042095,
          0.4384392131792526,
          0.35954263720582225,
          0.6449237157843417,
          0.5309797401301831,
          0.3228081198770981,
          0.42713826148448275,
          0.9786368188991755,
          0.35793115066957737,
          0.7255582077492853,
          0.10053916726130663,
          0.8537351168026776,
          0.7557729222971014,
          0.8184623651921452,
          0.6584558123102181,
          0.6599489323303265,
          0.09270200419399244,
          0.4069034613254895,
          0.3885378017642259,
          0.9714233318020181,
          0.6248972039660197,
          0.9928946257344546,
          0.08256344345451772,
          0.4072353595550481,
          0.3445310911330237,
          0.8787725967698139,
          0.8996331920371146,
          0.5393736901031764,
          0.9273462487989479,
          0.29890699964484824,
          0.06483230994913858,
          0.33207667606610225,
          0.8280820293997537,
          0.1337121332082043,
          0.5236679599486546,
          0.6663464679363166,
          0.533099711442479,
          0.883827634761864,
          0.8944666955244569,
          0.2111898539934557,
          0.7985766676895866,
          0.14765749689734264,
          0.3327763088985234,
          0.9135270105882163,
          0.46100596479006695,
          0.6046692993824774,
          0.5698728420283163,
          0.7616823579603452,
          0.3075761792780244,
          0.9762080585960433,
          0.042387072198767806,
          0.8227943228406743
         ],
         "z": [
          0.15816210303925937,
          0.16762537149234136,
          0.795705278820892,
          0.35023774050612755,
          0.9680322325837672,
          0.7362067619588517,
          0.7199015835073299,
          0.9715516389191914,
          0.19094963699146905,
          0.76338351516647,
          0.7287183178640764,
          0.8709097797388804,
          0.8274414166562959,
          0.10049508517374228,
          0.5529676621101951,
          0.7299237945533288,
          0.6458358042832527,
          0.8983883247208175,
          0.6507798968312044,
          0.1402542247757026,
          0.5741079764445287,
          0.2799958973651856,
          0.33519985568537736,
          0.7565868152254294,
          0.014663666747128934,
          0.7876434059888031,
          0.5205660669395776,
          0.9833904985531527,
          0.8922346540135065,
          0.2560974683873001,
          0.05871574245082889,
          0.5638816119263035,
          0.089895184246637,
          0.35166981469531267,
          0.3260612859747446,
          0.2860661668993494,
          0.3566077414082971,
          0.23458162554407214,
          0.3049583325914338,
          0.8972694315553149,
          0.5968568732139486,
          0.8257105097074804,
          0.6131312972258613,
          0.21947754084611826,
          0.2161173037580889,
          0.18062541580109492,
          0.14316411191688183,
          0.9520695518925559,
          0.3848465658360083,
          0.38432529318815123,
          0.28549321135875205,
          0.8018544252486941,
          0.18065243296659372,
          0.002608656983302593,
          0.9781503801567325,
          0.15506930442642886,
          0.05628714928214973,
          0.4875091969875739,
          0.5926850342753659,
          0.5562918623989207,
          0.6699730497776376,
          0.9305792599834016,
          0.775483473963107,
          0.3760081141222673,
          0.8194675196651172,
          0.9158446805076541,
          0.3673976369031742,
          0.5732364800116639,
          0.13609172077139975,
          0.4604196095045534,
          0.6119122890900708,
          0.8849904186537412,
          0.7843986231329279,
          0.12027034048035168,
          0.3662774675386372,
          0.18806741522582482,
          0.3937786964934159,
          0.27268898742959635,
          0.6415726350216473,
          0.9821158667592207,
          0.8701156565222413,
          0.0018884541933884558,
          0.010916501702968984,
          0.7283027944068452,
          0.5951233279370728,
          0.5254163612390536,
          0.5105393007082011,
          0.9213146718221753,
          0.5666581432013059,
          0.258543707062338,
          0.4961994325303887,
          0.18741758982867407,
          0.06632342942970582,
          0.08089467592575705,
          0.32254666534909204,
          0.6421642596087397,
          0.6731345430562311,
          0.7688752679664989,
          0.04359148925302936,
          0.9868211830610939
         ]
        }
       ],
       "layout": {
        "autosize": true,
        "coloraxis": {
         "colorbar": {
          "title": {
           "text": "z"
          }
         },
         "colorscale": [
          [
           0,
           "#0d0887"
          ],
          [
           0.1111111111111111,
           "#46039f"
          ],
          [
           0.2222222222222222,
           "#7201a8"
          ],
          [
           0.3333333333333333,
           "#9c179e"
          ],
          [
           0.4444444444444444,
           "#bd3786"
          ],
          [
           0.5555555555555556,
           "#d8576b"
          ],
          [
           0.6666666666666666,
           "#ed7953"
          ],
          [
           0.7777777777777778,
           "#fb9f3a"
          ],
          [
           0.8888888888888888,
           "#fdca26"
          ],
          [
           1,
           "#f0f921"
          ]
         ]
        },
        "legend": {
         "tracegroupgap": 0
        },
        "scene": {
         "aspectmode": "auto",
         "aspectratio": {
          "x": 1.0042982133996021,
          "y": 0.9848738241727637,
          "z": 1.011012941690359
         },
         "domain": {
          "x": [
           0,
           1
          ],
          "y": [
           0,
           1
          ]
         },
         "xaxis": {
          "title": {
           "text": "x"
          },
          "type": "linear"
         },
         "yaxis": {
          "title": {
           "text": "y"
          },
          "type": "linear"
         },
         "zaxis": {
          "title": {
           "text": "z"
          },
          "type": "linear"
         }
        },
        "template": {
         "data": {
          "bar": [
           {
            "error_x": {
             "color": "#2a3f5f"
            },
            "error_y": {
             "color": "#2a3f5f"
            },
            "marker": {
             "line": {
              "color": "#E5ECF6",
              "width": 0.5
             },
             "pattern": {
              "fillmode": "overlay",
              "size": 10,
              "solidity": 0.2
             }
            },
            "type": "bar"
           }
          ],
          "barpolar": [
           {
            "marker": {
             "line": {
              "color": "#E5ECF6",
              "width": 0.5
             },
             "pattern": {
              "fillmode": "overlay",
              "size": 10,
              "solidity": 0.2
             }
            },
            "type": "barpolar"
           }
          ],
          "carpet": [
           {
            "aaxis": {
             "endlinecolor": "#2a3f5f",
             "gridcolor": "white",
             "linecolor": "white",
             "minorgridcolor": "white",
             "startlinecolor": "#2a3f5f"
            },
            "baxis": {
             "endlinecolor": "#2a3f5f",
             "gridcolor": "white",
             "linecolor": "white",
             "minorgridcolor": "white",
             "startlinecolor": "#2a3f5f"
            },
            "type": "carpet"
           }
          ],
          "choropleth": [
           {
            "colorbar": {
             "outlinewidth": 0,
             "ticks": ""
            },
            "type": "choropleth"
           }
          ],
          "contour": [
           {
            "colorbar": {
             "outlinewidth": 0,
             "ticks": ""
            },
            "colorscale": [
             [
              0,
              "#0d0887"
             ],
             [
              0.1111111111111111,
              "#46039f"
             ],
             [
              0.2222222222222222,
              "#7201a8"
             ],
             [
              0.3333333333333333,
              "#9c179e"
             ],
             [
              0.4444444444444444,
              "#bd3786"
             ],
             [
              0.5555555555555556,
              "#d8576b"
             ],
             [
              0.6666666666666666,
              "#ed7953"
             ],
             [
              0.7777777777777778,
              "#fb9f3a"
             ],
             [
              0.8888888888888888,
              "#fdca26"
             ],
             [
              1,
              "#f0f921"
             ]
            ],
            "type": "contour"
           }
          ],
          "contourcarpet": [
           {
            "colorbar": {
             "outlinewidth": 0,
             "ticks": ""
            },
            "type": "contourcarpet"
           }
          ],
          "heatmap": [
           {
            "colorbar": {
             "outlinewidth": 0,
             "ticks": ""
            },
            "colorscale": [
             [
              0,
              "#0d0887"
             ],
             [
              0.1111111111111111,
              "#46039f"
             ],
             [
              0.2222222222222222,
              "#7201a8"
             ],
             [
              0.3333333333333333,
              "#9c179e"
             ],
             [
              0.4444444444444444,
              "#bd3786"
             ],
             [
              0.5555555555555556,
              "#d8576b"
             ],
             [
              0.6666666666666666,
              "#ed7953"
             ],
             [
              0.7777777777777778,
              "#fb9f3a"
             ],
             [
              0.8888888888888888,
              "#fdca26"
             ],
             [
              1,
              "#f0f921"
             ]
            ],
            "type": "heatmap"
           }
          ],
          "heatmapgl": [
           {
            "colorbar": {
             "outlinewidth": 0,
             "ticks": ""
            },
            "colorscale": [
             [
              0,
              "#0d0887"
             ],
             [
              0.1111111111111111,
              "#46039f"
             ],
             [
              0.2222222222222222,
              "#7201a8"
             ],
             [
              0.3333333333333333,
              "#9c179e"
             ],
             [
              0.4444444444444444,
              "#bd3786"
             ],
             [
              0.5555555555555556,
              "#d8576b"
             ],
             [
              0.6666666666666666,
              "#ed7953"
             ],
             [
              0.7777777777777778,
              "#fb9f3a"
             ],
             [
              0.8888888888888888,
              "#fdca26"
             ],
             [
              1,
              "#f0f921"
             ]
            ],
            "type": "heatmapgl"
           }
          ],
          "histogram": [
           {
            "marker": {
             "pattern": {
              "fillmode": "overlay",
              "size": 10,
              "solidity": 0.2
             }
            },
            "type": "histogram"
           }
          ],
          "histogram2d": [
           {
            "colorbar": {
             "outlinewidth": 0,
             "ticks": ""
            },
            "colorscale": [
             [
              0,
              "#0d0887"
             ],
             [
              0.1111111111111111,
              "#46039f"
             ],
             [
              0.2222222222222222,
              "#7201a8"
             ],
             [
              0.3333333333333333,
              "#9c179e"
             ],
             [
              0.4444444444444444,
              "#bd3786"
             ],
             [
              0.5555555555555556,
              "#d8576b"
             ],
             [
              0.6666666666666666,
              "#ed7953"
             ],
             [
              0.7777777777777778,
              "#fb9f3a"
             ],
             [
              0.8888888888888888,
              "#fdca26"
             ],
             [
              1,
              "#f0f921"
             ]
            ],
            "type": "histogram2d"
           }
          ],
          "histogram2dcontour": [
           {
            "colorbar": {
             "outlinewidth": 0,
             "ticks": ""
            },
            "colorscale": [
             [
              0,
              "#0d0887"
             ],
             [
              0.1111111111111111,
              "#46039f"
             ],
             [
              0.2222222222222222,
              "#7201a8"
             ],
             [
              0.3333333333333333,
              "#9c179e"
             ],
             [
              0.4444444444444444,
              "#bd3786"
             ],
             [
              0.5555555555555556,
              "#d8576b"
             ],
             [
              0.6666666666666666,
              "#ed7953"
             ],
             [
              0.7777777777777778,
              "#fb9f3a"
             ],
             [
              0.8888888888888888,
              "#fdca26"
             ],
             [
              1,
              "#f0f921"
             ]
            ],
            "type": "histogram2dcontour"
           }
          ],
          "mesh3d": [
           {
            "colorbar": {
             "outlinewidth": 0,
             "ticks": ""
            },
            "type": "mesh3d"
           }
          ],
          "parcoords": [
           {
            "line": {
             "colorbar": {
              "outlinewidth": 0,
              "ticks": ""
             }
            },
            "type": "parcoords"
           }
          ],
          "pie": [
           {
            "automargin": true,
            "type": "pie"
           }
          ],
          "scatter": [
           {
            "fillpattern": {
             "fillmode": "overlay",
             "size": 10,
             "solidity": 0.2
            },
            "type": "scatter"
           }
          ],
          "scatter3d": [
           {
            "line": {
             "colorbar": {
              "outlinewidth": 0,
              "ticks": ""
             }
            },
            "marker": {
             "colorbar": {
              "outlinewidth": 0,
              "ticks": ""
             }
            },
            "type": "scatter3d"
           }
          ],
          "scattercarpet": [
           {
            "marker": {
             "colorbar": {
              "outlinewidth": 0,
              "ticks": ""
             }
            },
            "type": "scattercarpet"
           }
          ],
          "scattergeo": [
           {
            "marker": {
             "colorbar": {
              "outlinewidth": 0,
              "ticks": ""
             }
            },
            "type": "scattergeo"
           }
          ],
          "scattergl": [
           {
            "marker": {
             "colorbar": {
              "outlinewidth": 0,
              "ticks": ""
             }
            },
            "type": "scattergl"
           }
          ],
          "scattermapbox": [
           {
            "marker": {
             "colorbar": {
              "outlinewidth": 0,
              "ticks": ""
             }
            },
            "type": "scattermapbox"
           }
          ],
          "scatterpolar": [
           {
            "marker": {
             "colorbar": {
              "outlinewidth": 0,
              "ticks": ""
             }
            },
            "type": "scatterpolar"
           }
          ],
          "scatterpolargl": [
           {
            "marker": {
             "colorbar": {
              "outlinewidth": 0,
              "ticks": ""
             }
            },
            "type": "scatterpolargl"
           }
          ],
          "scatterternary": [
           {
            "marker": {
             "colorbar": {
              "outlinewidth": 0,
              "ticks": ""
             }
            },
            "type": "scatterternary"
           }
          ],
          "surface": [
           {
            "colorbar": {
             "outlinewidth": 0,
             "ticks": ""
            },
            "colorscale": [
             [
              0,
              "#0d0887"
             ],
             [
              0.1111111111111111,
              "#46039f"
             ],
             [
              0.2222222222222222,
              "#7201a8"
             ],
             [
              0.3333333333333333,
              "#9c179e"
             ],
             [
              0.4444444444444444,
              "#bd3786"
             ],
             [
              0.5555555555555556,
              "#d8576b"
             ],
             [
              0.6666666666666666,
              "#ed7953"
             ],
             [
              0.7777777777777778,
              "#fb9f3a"
             ],
             [
              0.8888888888888888,
              "#fdca26"
             ],
             [
              1,
              "#f0f921"
             ]
            ],
            "type": "surface"
           }
          ],
          "table": [
           {
            "cells": {
             "fill": {
              "color": "#EBF0F8"
             },
             "line": {
              "color": "white"
             }
            },
            "header": {
             "fill": {
              "color": "#C8D4E3"
             },
             "line": {
              "color": "white"
             }
            },
            "type": "table"
           }
          ]
         },
         "layout": {
          "annotationdefaults": {
           "arrowcolor": "#2a3f5f",
           "arrowhead": 0,
           "arrowwidth": 1
          },
          "autotypenumbers": "strict",
          "coloraxis": {
           "colorbar": {
            "outlinewidth": 0,
            "ticks": ""
           }
          },
          "colorscale": {
           "diverging": [
            [
             0,
             "#8e0152"
            ],
            [
             0.1,
             "#c51b7d"
            ],
            [
             0.2,
             "#de77ae"
            ],
            [
             0.3,
             "#f1b6da"
            ],
            [
             0.4,
             "#fde0ef"
            ],
            [
             0.5,
             "#f7f7f7"
            ],
            [
             0.6,
             "#e6f5d0"
            ],
            [
             0.7,
             "#b8e186"
            ],
            [
             0.8,
             "#7fbc41"
            ],
            [
             0.9,
             "#4d9221"
            ],
            [
             1,
             "#276419"
            ]
           ],
           "sequential": [
            [
             0,
             "#0d0887"
            ],
            [
             0.1111111111111111,
             "#46039f"
            ],
            [
             0.2222222222222222,
             "#7201a8"
            ],
            [
             0.3333333333333333,
             "#9c179e"
            ],
            [
             0.4444444444444444,
             "#bd3786"
            ],
            [
             0.5555555555555556,
             "#d8576b"
            ],
            [
             0.6666666666666666,
             "#ed7953"
            ],
            [
             0.7777777777777778,
             "#fb9f3a"
            ],
            [
             0.8888888888888888,
             "#fdca26"
            ],
            [
             1,
             "#f0f921"
            ]
           ],
           "sequentialminus": [
            [
             0,
             "#0d0887"
            ],
            [
             0.1111111111111111,
             "#46039f"
            ],
            [
             0.2222222222222222,
             "#7201a8"
            ],
            [
             0.3333333333333333,
             "#9c179e"
            ],
            [
             0.4444444444444444,
             "#bd3786"
            ],
            [
             0.5555555555555556,
             "#d8576b"
            ],
            [
             0.6666666666666666,
             "#ed7953"
            ],
            [
             0.7777777777777778,
             "#fb9f3a"
            ],
            [
             0.8888888888888888,
             "#fdca26"
            ],
            [
             1,
             "#f0f921"
            ]
           ]
          },
          "colorway": [
           "#636efa",
           "#EF553B",
           "#00cc96",
           "#ab63fa",
           "#FFA15A",
           "#19d3f3",
           "#FF6692",
           "#B6E880",
           "#FF97FF",
           "#FECB52"
          ],
          "font": {
           "color": "#2a3f5f"
          },
          "geo": {
           "bgcolor": "white",
           "lakecolor": "white",
           "landcolor": "#E5ECF6",
           "showlakes": true,
           "showland": true,
           "subunitcolor": "white"
          },
          "hoverlabel": {
           "align": "left"
          },
          "hovermode": "closest",
          "mapbox": {
           "style": "light"
          },
          "paper_bgcolor": "white",
          "plot_bgcolor": "#E5ECF6",
          "polar": {
           "angularaxis": {
            "gridcolor": "white",
            "linecolor": "white",
            "ticks": ""
           },
           "bgcolor": "#E5ECF6",
           "radialaxis": {
            "gridcolor": "white",
            "linecolor": "white",
            "ticks": ""
           }
          },
          "scene": {
           "xaxis": {
            "backgroundcolor": "#E5ECF6",
            "gridcolor": "white",
            "gridwidth": 2,
            "linecolor": "white",
            "showbackground": true,
            "ticks": "",
            "zerolinecolor": "white"
           },
           "yaxis": {
            "backgroundcolor": "#E5ECF6",
            "gridcolor": "white",
            "gridwidth": 2,
            "linecolor": "white",
            "showbackground": true,
            "ticks": "",
            "zerolinecolor": "white"
           },
           "zaxis": {
            "backgroundcolor": "#E5ECF6",
            "gridcolor": "white",
            "gridwidth": 2,
            "linecolor": "white",
            "showbackground": true,
            "ticks": "",
            "zerolinecolor": "white"
           }
          },
          "shapedefaults": {
           "line": {
            "color": "#2a3f5f"
           }
          },
          "ternary": {
           "aaxis": {
            "gridcolor": "white",
            "linecolor": "white",
            "ticks": ""
           },
           "baxis": {
            "gridcolor": "white",
            "linecolor": "white",
            "ticks": ""
           },
           "bgcolor": "#E5ECF6",
           "caxis": {
            "gridcolor": "white",
            "linecolor": "white",
            "ticks": ""
           }
          },
          "title": {
           "x": 0.05
          },
          "xaxis": {
           "automargin": true,
           "gridcolor": "white",
           "linecolor": "white",
           "ticks": "",
           "title": {
            "standoff": 15
           },
           "zerolinecolor": "white",
           "zerolinewidth": 2
          },
          "yaxis": {
           "automargin": true,
           "gridcolor": "white",
           "linecolor": "white",
           "ticks": "",
           "title": {
            "standoff": 15
           },
           "zerolinecolor": "white",
           "zerolinewidth": 2
          }
         }
        },
        "title": {
         "text": "3D Scatter Plot"
        }
       }
      },
      "image/png": "[encoded data removed]",
      "text/html": [
       "<div>                            <div id=\"4d9fbe1c-617b-455d-bbf9-1bc006e34290\" class=\"plotly-graph-div\" style=\"height:525px; width:100%;\"></div>            <script type=\"text/javascript\">                require([\"plotly\"], function(Plotly) {                    window.PLOTLYENV=window.PLOTLYENV || {};                                    if (document.getElementById(\"4d9fbe1c-617b-455d-bbf9-1bc006e34290\")) {                    Plotly.newPlot(                        \"4d9fbe1c-617b-455d-bbf9-1bc006e34290\",                        [{\"hovertemplate\":\"x=%{x}\\u003cbr\\u003ey=%{y}\\u003cbr\\u003ez=%{marker.color}\\u003cextra\\u003e\\u003c\\u002fextra\\u003e\",\"legendgroup\":\"\",\"marker\":{\"color\":[0.15816210303925937,0.16762537149234136,0.795705278820892,0.35023774050612755,0.9680322325837672,0.7362067619588517,0.7199015835073299,0.9715516389191914,0.19094963699146905,0.76338351516647,0.7287183178640764,0.8709097797388804,0.8274414166562959,0.10049508517374228,0.5529676621101951,0.7299237945533288,0.6458358042832527,0.8983883247208175,0.6507798968312044,0.1402542247757026,0.5741079764445287,0.2799958973651856,0.33519985568537736,0.7565868152254294,0.014663666747128934,0.7876434059888031,0.5205660669395776,0.9833904985531527,0.8922346540135065,0.2560974683873001,0.05871574245082889,0.5638816119263035,0.089895184246637,0.35166981469531267,0.3260612859747446,0.2860661668993494,0.3566077414082971,0.23458162554407214,0.3049583325914338,0.8972694315553149,0.5968568732139486,0.8257105097074804,0.6131312972258613,0.21947754084611826,0.2161173037580889,0.18062541580109492,0.14316411191688183,0.9520695518925559,0.3848465658360083,0.38432529318815123,0.28549321135875205,0.8018544252486941,0.18065243296659372,0.002608656983302593,0.9781503801567325,0.15506930442642886,0.05628714928214973,0.4875091969875739,0.5926850342753659,0.5562918623989207,0.6699730497776376,0.9305792599834016,0.775483473963107,0.3760081141222673,0.8194675196651172,0.9158446805076541,0.3673976369031742,0.5732364800116639,0.13609172077139975,0.4604196095045534,0.6119122890900708,0.8849904186537412,0.7843986231329279,0.12027034048035168,0.3662774675386372,0.18806741522582482,0.3937786964934159,0.27268898742959635,0.6415726350216473,0.9821158667592207,0.8701156565222413,0.0018884541933884558,0.010916501702968984,0.7283027944068452,0.5951233279370728,0.5254163612390536,0.5105393007082011,0.9213146718221753,0.5666581432013059,0.258543707062338,0.4961994325303887,0.18741758982867407,0.06632342942970582,0.08089467592575705,0.32254666534909204,0.6421642596087397,0.6731345430562311,0.7688752679664989,0.04359148925302936,0.9868211830610939],\"coloraxis\":\"coloraxis\",\"symbol\":\"circle\"},\"mode\":\"markers\",\"name\":\"\",\"scene\":\"scene\",\"showlegend\":false,\"x\":[0.4642614901222477,0.9898979584436552,0.8387187899152058,0.7204786529221513,0.21893028975743456,0.4576369954825754,0.7118534973699201,0.9681737190251339,0.3444629434067422,0.3672930854681742,0.3751489850924702,0.24335822350528225,0.4039167957831681,0.8314513043517998,0.20165956382578332,0.7630372047597505,0.1359982217267547,0.5395636136597798,0.7222317168057395,0.9665162388048134,0.9320439802459833,0.8601769594140014,0.012886515000241405,0.05395302349576314,0.5478651803210625,0.8869996893125737,0.9696741424128887,0.7915434632081458,0.5028761698392883,0.019410779511844445,0.47863615042371177,0.885238055455352,0.34727707839568234,0.7055811560147437,0.06667735017330711,0.24694251185158966,0.5318493104675377,0.37267609660753764,0.12063078273528416,0.3956536962229178,0.4349425082838194,0.5716156917377613,0.541122219014866,0.7739960064079668,0.946596921057487,0.4577067853730509,0.8131080917528881,0.34341075470306304,0.18141598914253843,0.8876611305323304,0.049308846344405355,0.9256710197268224,0.3811232554427313,0.5669741737540739,0.32441956018610285,0.3687756191898881,0.7499208697736259,0.4593504306237681,0.4232844053458791,0.6522855820216565,0.05419494916064749,0.8038572794827014,0.6586884975699787,0.6622665442229262,0.5261868273026779,0.26268876849879763,0.7825069478581168,0.5058118133304348,0.2926375073188374,0.9711390045130113,0.05309123041847874,0.3091750302951505,0.25737781911740876,0.7912682987818542,0.7492274402865517,0.011506743918944351,0.2117176613670705,0.7767402375235463,0.945548079350934,0.8748864172567078,0.26700154628361406,0.023516888811800363,0.9415773409979388,0.15843511378721342,0.047988159225760385,0.65407434092128,0.6945599088673259,0.01990821805488141,0.9211334635546033,0.482688541152238,0.7605587860259571,0.3598434986491713,0.0586985910584884,0.9031606426065969,0.4537924468711484,0.3942955333380893,0.34441952031378,0.7068007384825618,0.5956993498167626,0.9763085542667836],\"y\":[0.19848171182141627,0.7406690469693249,0.05083879425462423,0.7453258020010897,0.1736482459441574,0.9806525097716647,0.49216159765961764,0.29580366048403317,0.0823740973461986,0.18104145485692358,0.771213350014541,0.8062170623529732,0.5085648899371356,0.9258349287821471,0.6873045284207745,0.912980137797816,0.4713213127110458,0.38972818736847525,0.9299783497474019,0.8960394159126094,0.6570371600319113,0.27642443296251973,0.6652989134529518,0.636632406429307,0.7044878153797137,0.298594547603683,0.2794027548096879,0.3088080496090033,0.7606133102482707,0.5131180431356028,0.6914643491438346,0.9114104541589383,0.3486818794204013,0.3121915159945715,0.047216152860756644,0.6345824933506481,0.767737739316259,0.6384571245204202,0.6277756019132977,0.7492212387040408,0.07363834354941878,0.619504868413392,0.30266313405257383,0.03532769957100823,0.5818903975244638,0.5778228688398264,0.8823695003055215,0.03342672652931933,0.30166289723042095,0.4384392131792526,0.35954263720582225,0.6449237157843417,0.5309797401301831,0.3228081198770981,0.42713826148448275,0.9786368188991755,0.35793115066957737,0.7255582077492853,0.10053916726130663,0.8537351168026776,0.7557729222971014,0.8184623651921452,0.6584558123102181,0.6599489323303265,0.09270200419399244,0.4069034613254895,0.3885378017642259,0.9714233318020181,0.6248972039660197,0.9928946257344546,0.08256344345451772,0.4072353595550481,0.3445310911330237,0.8787725967698139,0.8996331920371146,0.5393736901031764,0.9273462487989479,0.29890699964484824,0.06483230994913858,0.33207667606610225,0.8280820293997537,0.1337121332082043,0.5236679599486546,0.6663464679363166,0.533099711442479,0.883827634761864,0.8944666955244569,0.2111898539934557,0.7985766676895866,0.14765749689734264,0.3327763088985234,0.9135270105882163,0.46100596479006695,0.6046692993824774,0.5698728420283163,0.7616823579603452,0.3075761792780244,0.9762080585960433,0.042387072198767806,0.8227943228406743],\"z\":[0.15816210303925937,0.16762537149234136,0.795705278820892,0.35023774050612755,0.9680322325837672,0.7362067619588517,0.7199015835073299,0.9715516389191914,0.19094963699146905,0.76338351516647,0.7287183178640764,0.8709097797388804,0.8274414166562959,0.10049508517374228,0.5529676621101951,0.7299237945533288,0.6458358042832527,0.8983883247208175,0.6507798968312044,0.1402542247757026,0.5741079764445287,0.2799958973651856,0.33519985568537736,0.7565868152254294,0.014663666747128934,0.7876434059888031,0.5205660669395776,0.9833904985531527,0.8922346540135065,0.2560974683873001,0.05871574245082889,0.5638816119263035,0.089895184246637,0.35166981469531267,0.3260612859747446,0.2860661668993494,0.3566077414082971,0.23458162554407214,0.3049583325914338,0.8972694315553149,0.5968568732139486,0.8257105097074804,0.6131312972258613,0.21947754084611826,0.2161173037580889,0.18062541580109492,0.14316411191688183,0.9520695518925559,0.3848465658360083,0.38432529318815123,0.28549321135875205,0.8018544252486941,0.18065243296659372,0.002608656983302593,0.9781503801567325,0.15506930442642886,0.05628714928214973,0.4875091969875739,0.5926850342753659,0.5562918623989207,0.6699730497776376,0.9305792599834016,0.775483473963107,0.3760081141222673,0.8194675196651172,0.9158446805076541,0.3673976369031742,0.5732364800116639,0.13609172077139975,0.4604196095045534,0.6119122890900708,0.8849904186537412,0.7843986231329279,0.12027034048035168,0.3662774675386372,0.18806741522582482,0.3937786964934159,0.27268898742959635,0.6415726350216473,0.9821158667592207,0.8701156565222413,0.0018884541933884558,0.010916501702968984,0.7283027944068452,0.5951233279370728,0.5254163612390536,0.5105393007082011,0.9213146718221753,0.5666581432013059,0.258543707062338,0.4961994325303887,0.18741758982867407,0.06632342942970582,0.08089467592575705,0.32254666534909204,0.6421642596087397,0.6731345430562311,0.7688752679664989,0.04359148925302936,0.9868211830610939],\"type\":\"scatter3d\"}],                        {\"template\":{\"data\":{\"histogram2dcontour\":[{\"type\":\"histogram2dcontour\",\"colorbar\":{\"outlinewidth\":0,\"ticks\":\"\"},\"colorscale\":[[0.0,\"#0d0887\"],[0.1111111111111111,\"#46039f\"],[0.2222222222222222,\"#7201a8\"],[0.3333333333333333,\"#9c179e\"],[0.4444444444444444,\"#bd3786\"],[0.5555555555555556,\"#d8576b\"],[0.6666666666666666,\"#ed7953\"],[0.7777777777777778,\"#fb9f3a\"],[0.8888888888888888,\"#fdca26\"],[1.0,\"#f0f921\"]]}],\"choropleth\":[{\"type\":\"choropleth\",\"colorbar\":{\"outlinewidth\":0,\"ticks\":\"\"}}],\"histogram2d\":[{\"type\":\"histogram2d\",\"colorbar\":{\"outlinewidth\":0,\"ticks\":\"\"},\"colorscale\":[[0.0,\"#0d0887\"],[0.1111111111111111,\"#46039f\"],[0.2222222222222222,\"#7201a8\"],[0.3333333333333333,\"#9c179e\"],[0.4444444444444444,\"#bd3786\"],[0.5555555555555556,\"#d8576b\"],[0.6666666666666666,\"#ed7953\"],[0.7777777777777778,\"#fb9f3a\"],[0.8888888888888888,\"#fdca26\"],[1.0,\"#f0f921\"]]}],\"heatmap\":[{\"type\":\"heatmap\",\"colorbar\":{\"outlinewidth\":0,\"ticks\":\"\"},\"colorscale\":[[0.0,\"#0d0887\"],[0.1111111111111111,\"#46039f\"],[0.2222222222222222,\"#7201a8\"],[0.3333333333333333,\"#9c179e\"],[0.4444444444444444,\"#bd3786\"],[0.5555555555555556,\"#d8576b\"],[0.6666666666666666,\"#ed7953\"],[0.7777777777777778,\"#fb9f3a\"],[0.8888888888888888,\"#fdca26\"],[1.0,\"#f0f921\"]]}],\"heatmapgl\":[{\"type\":\"heatmapgl\",\"colorbar\":{\"outlinewidth\":0,\"ticks\":\"\"},\"colorscale\":[[0.0,\"#0d0887\"],[0.1111111111111111,\"#46039f\"],[0.2222222222222222,\"#7201a8\"],[0.3333333333333333,\"#9c179e\"],[0.4444444444444444,\"#bd3786\"],[0.5555555555555556,\"#d8576b\"],[0.6666666666666666,\"#ed7953\"],[0.7777777777777778,\"#fb9f3a\"],[0.8888888888888888,\"#fdca26\"],[1.0,\"#f0f921\"]]}],\"contourcarpet\":[{\"type\":\"contourcarpet\",\"colorbar\":{\"outlinewidth\":0,\"ticks\":\"\"}}],\"contour\":[{\"type\":\"contour\",\"colorbar\":{\"outlinewidth\":0,\"ticks\":\"\"},\"colorscale\":[[0.0,\"#0d0887\"],[0.1111111111111111,\"#46039f\"],[0.2222222222222222,\"#7201a8\"],[0.3333333333333333,\"#9c179e\"],[0.4444444444444444,\"#bd3786\"],[0.5555555555555556,\"#d8576b\"],[0.6666666666666666,\"#ed7953\"],[0.7777777777777778,\"#fb9f3a\"],[0.8888888888888888,\"#fdca26\"],[1.0,\"#f0f921\"]]}],\"surface\":[{\"type\":\"surface\",\"colorbar\":{\"outlinewidth\":0,\"ticks\":\"\"},\"colorscale\":[[0.0,\"#0d0887\"],[0.1111111111111111,\"#46039f\"],[0.2222222222222222,\"#7201a8\"],[0.3333333333333333,\"#9c179e\"],[0.4444444444444444,\"#bd3786\"],[0.5555555555555556,\"#d8576b\"],[0.6666666666666666,\"#ed7953\"],[0.7777777777777778,\"#fb9f3a\"],[0.8888888888888888,\"#fdca26\"],[1.0,\"#f0f921\"]]}],\"mesh3d\":[{\"type\":\"mesh3d\",\"colorbar\":{\"outlinewidth\":0,\"ticks\":\"\"}}],\"scatter\":[{\"fillpattern\":{\"fillmode\":\"overlay\",\"size\":10,\"solidity\":0.2},\"type\":\"scatter\"}],\"parcoords\":[{\"type\":\"parcoords\",\"line\":{\"colorbar\":{\"outlinewidth\":0,\"ticks\":\"\"}}}],\"scatterpolargl\":[{\"type\":\"scatterpolargl\",\"marker\":{\"colorbar\":{\"outlinewidth\":0,\"ticks\":\"\"}}}],\"bar\":[{\"error_x\":{\"color\":\"#2a3f5f\"},\"error_y\":{\"color\":\"#2a3f5f\"},\"marker\":{\"line\":{\"color\":\"#E5ECF6\",\"width\":0.5},\"pattern\":{\"fillmode\":\"overlay\",\"size\":10,\"solidity\":0.2}},\"type\":\"bar\"}],\"scattergeo\":[{\"type\":\"scattergeo\",\"marker\":{\"colorbar\":{\"outlinewidth\":0,\"ticks\":\"\"}}}],\"scatterpolar\":[{\"type\":\"scatterpolar\",\"marker\":{\"colorbar\":{\"outlinewidth\":0,\"ticks\":\"\"}}}],\"histogram\":[{\"marker\":{\"pattern\":{\"fillmode\":\"overlay\",\"size\":10,\"solidity\":0.2}},\"type\":\"histogram\"}],\"scattergl\":[{\"type\":\"scattergl\",\"marker\":{\"colorbar\":{\"outlinewidth\":0,\"ticks\":\"\"}}}],\"scatter3d\":[{\"type\":\"scatter3d\",\"line\":{\"colorbar\":{\"outlinewidth\":0,\"ticks\":\"\"}},\"marker\":{\"colorbar\":{\"outlinewidth\":0,\"ticks\":\"\"}}}],\"scattermapbox\":[{\"type\":\"scattermapbox\",\"marker\":{\"colorbar\":{\"outlinewidth\":0,\"ticks\":\"\"}}}],\"scatterternary\":[{\"type\":\"scatterternary\",\"marker\":{\"colorbar\":{\"outlinewidth\":0,\"ticks\":\"\"}}}],\"scattercarpet\":[{\"type\":\"scattercarpet\",\"marker\":{\"colorbar\":{\"outlinewidth\":0,\"ticks\":\"\"}}}],\"carpet\":[{\"aaxis\":{\"endlinecolor\":\"#2a3f5f\",\"gridcolor\":\"white\",\"linecolor\":\"white\",\"minorgridcolor\":\"white\",\"startlinecolor\":\"#2a3f5f\"},\"baxis\":{\"endlinecolor\":\"#2a3f5f\",\"gridcolor\":\"white\",\"linecolor\":\"white\",\"minorgridcolor\":\"white\",\"startlinecolor\":\"#2a3f5f\"},\"type\":\"carpet\"}],\"table\":[{\"cells\":{\"fill\":{\"color\":\"#EBF0F8\"},\"line\":{\"color\":\"white\"}},\"header\":{\"fill\":{\"color\":\"#C8D4E3\"},\"line\":{\"color\":\"white\"}},\"type\":\"table\"}],\"barpolar\":[{\"marker\":{\"line\":{\"color\":\"#E5ECF6\",\"width\":0.5},\"pattern\":{\"fillmode\":\"overlay\",\"size\":10,\"solidity\":0.2}},\"type\":\"barpolar\"}],\"pie\":[{\"automargin\":true,\"type\":\"pie\"}]},\"layout\":{\"autotypenumbers\":\"strict\",\"colorway\":[\"#636efa\",\"#EF553B\",\"#00cc96\",\"#ab63fa\",\"#FFA15A\",\"#19d3f3\",\"#FF6692\",\"#B6E880\",\"#FF97FF\",\"#FECB52\"],\"font\":{\"color\":\"#2a3f5f\"},\"hovermode\":\"closest\",\"hoverlabel\":{\"align\":\"left\"},\"paper_bgcolor\":\"white\",\"plot_bgcolor\":\"#E5ECF6\",\"polar\":{\"bgcolor\":\"#E5ECF6\",\"angularaxis\":{\"gridcolor\":\"white\",\"linecolor\":\"white\",\"ticks\":\"\"},\"radialaxis\":{\"gridcolor\":\"white\",\"linecolor\":\"white\",\"ticks\":\"\"}},\"ternary\":{\"bgcolor\":\"#E5ECF6\",\"aaxis\":{\"gridcolor\":\"white\",\"linecolor\":\"white\",\"ticks\":\"\"},\"baxis\":{\"gridcolor\":\"white\",\"linecolor\":\"white\",\"ticks\":\"\"},\"caxis\":{\"gridcolor\":\"white\",\"linecolor\":\"white\",\"ticks\":\"\"}},\"coloraxis\":{\"colorbar\":{\"outlinewidth\":0,\"ticks\":\"\"}},\"colorscale\":{\"sequential\":[[0.0,\"#0d0887\"],[0.1111111111111111,\"#46039f\"],[0.2222222222222222,\"#7201a8\"],[0.3333333333333333,\"#9c179e\"],[0.4444444444444444,\"#bd3786\"],[0.5555555555555556,\"#d8576b\"],[0.6666666666666666,\"#ed7953\"],[0.7777777777777778,\"#fb9f3a\"],[0.8888888888888888,\"#fdca26\"],[1.0,\"#f0f921\"]],\"sequentialminus\":[[0.0,\"#0d0887\"],[0.1111111111111111,\"#46039f\"],[0.2222222222222222,\"#7201a8\"],[0.3333333333333333,\"#9c179e\"],[0.4444444444444444,\"#bd3786\"],[0.5555555555555556,\"#d8576b\"],[0.6666666666666666,\"#ed7953\"],[0.7777777777777778,\"#fb9f3a\"],[0.8888888888888888,\"#fdca26\"],[1.0,\"#f0f921\"]],\"diverging\":[[0,\"#8e0152\"],[0.1,\"#c51b7d\"],[0.2,\"#de77ae\"],[0.3,\"#f1b6da\"],[0.4,\"#fde0ef\"],[0.5,\"#f7f7f7\"],[0.6,\"#e6f5d0\"],[0.7,\"#b8e186\"],[0.8,\"#7fbc41\"],[0.9,\"#4d9221\"],[1,\"#276419\"]]},\"xaxis\":{\"gridcolor\":\"white\",\"linecolor\":\"white\",\"ticks\":\"\",\"title\":{\"standoff\":15},\"zerolinecolor\":\"white\",\"automargin\":true,\"zerolinewidth\":2},\"yaxis\":{\"gridcolor\":\"white\",\"linecolor\":\"white\",\"ticks\":\"\",\"title\":{\"standoff\":15},\"zerolinecolor\":\"white\",\"automargin\":true,\"zerolinewidth\":2},\"scene\":{\"xaxis\":{\"backgroundcolor\":\"#E5ECF6\",\"gridcolor\":\"white\",\"linecolor\":\"white\",\"showbackground\":true,\"ticks\":\"\",\"zerolinecolor\":\"white\",\"gridwidth\":2},\"yaxis\":{\"backgroundcolor\":\"#E5ECF6\",\"gridcolor\":\"white\",\"linecolor\":\"white\",\"showbackground\":true,\"ticks\":\"\",\"zerolinecolor\":\"white\",\"gridwidth\":2},\"zaxis\":{\"backgroundcolor\":\"#E5ECF6\",\"gridcolor\":\"white\",\"linecolor\":\"white\",\"showbackground\":true,\"ticks\":\"\",\"zerolinecolor\":\"white\",\"gridwidth\":2}},\"shapedefaults\":{\"line\":{\"color\":\"#2a3f5f\"}},\"annotationdefaults\":{\"arrowcolor\":\"#2a3f5f\",\"arrowhead\":0,\"arrowwidth\":1},\"geo\":{\"bgcolor\":\"white\",\"landcolor\":\"#E5ECF6\",\"subunitcolor\":\"white\",\"showland\":true,\"showlakes\":true,\"lakecolor\":\"white\"},\"title\":{\"x\":0.05},\"mapbox\":{\"style\":\"light\"}}},\"scene\":{\"domain\":{\"x\":[0.0,1.0],\"y\":[0.0,1.0]},\"xaxis\":{\"title\":{\"text\":\"x\"}},\"yaxis\":{\"title\":{\"text\":\"y\"}},\"zaxis\":{\"title\":{\"text\":\"z\"}}},\"coloraxis\":{\"colorbar\":{\"title\":{\"text\":\"z\"}},\"colorscale\":[[0.0,\"#0d0887\"],[0.1111111111111111,\"#46039f\"],[0.2222222222222222,\"#7201a8\"],[0.3333333333333333,\"#9c179e\"],[0.4444444444444444,\"#bd3786\"],[0.5555555555555556,\"#d8576b\"],[0.6666666666666666,\"#ed7953\"],[0.7777777777777778,\"#fb9f3a\"],[0.8888888888888888,\"#fdca26\"],[1.0,\"#f0f921\"]]},\"legend\":{\"tracegroupgap\":0},\"title\":{\"text\":\"3D Scatter Plot\"}},                        {\"responsive\": true}                    ).then(function(){\n",
       "                            \n",
       "var gd = document.getElementById('4d9fbe1c-617b-455d-bbf9-1bc006e34290');\n",
       "var x = new MutationObserver(function (mutations, observer) {{\n",
       "        var display = window.getComputedStyle(gd).display;\n",
       "        if (!display || display === 'none') {{\n",
       "            console.log([gd, 'removed!']);\n",
       "            Plotly.purge(gd);\n",
       "            observer.disconnect();\n",
       "        }}\n",
       "}});\n",
       "\n",
       "// Listen for the removal of the full notebook cells\n",
       "var notebookContainer = gd.closest('#notebook-container');\n",
       "if (notebookContainer) {{\n",
       "    x.observe(notebookContainer, {childList: true});\n",
       "}}\n",
       "\n",
       "// Listen for the clearing of the current output cell\n",
       "var outputEl = gd.closest('.output');\n",
       "if (outputEl) {{\n",
       "    x.observe(outputEl, {childList: true});\n",
       "}}\n",
       "\n",
       "                        })                };                });            </script>        </div>"
      ]
     },
     "metadata": {},
     "output_type": "display_data"
    }
   ],
   "source": [
    "import plotly.express as px\n",
    "import numpy as np\n",
    "import pandas as pd\n",
    "\n",
    "x = np.random.rand(100)\n",
    "y = np.random.rand(100)\n",
    "z = np.random.rand(100)\n",
    "\n",
    "\n",
    "df = pd.DataFrame({'x': x, 'y': y, 'z': z})\n",
    "\n",
    "# \n",
    "fig = px.scatter_3d(df, x='x', y='y', z='z', color='z', title='3D Scatter Plot')\n",
    "\n",
    "fig.show()\n"
   ]
  }
 ],
 "metadata": {
  "kernelspec": {
   "display_name": "Python 3 (ipykernel)",
   "language": "python",
   "name": "python3"
  },
  "language_info": {
   "codemirror_mode": {
    "name": "ipython",
    "version": 3
   },
   "file_extension": ".py",
   "mimetype": "text/x-python",
   "name": "python",
   "nbconvert_exporter": "python",
   "pygments_lexer": "ipython3",
   "version": "3.12.7"
  }
 },
 "nbformat": 4,
 "nbformat_minor": 5
}
